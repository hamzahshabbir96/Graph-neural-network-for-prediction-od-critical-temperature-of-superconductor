{
 "cells": [
  {
   "cell_type": "code",
   "execution_count": 1,
   "id": "44c2ee2e-a77a-4339-9874-8e022466b478",
   "metadata": {},
   "outputs": [],
   "source": [
    "import pandas as pd\n",
    "import numpy as np\n",
    "from sklearn.metrics import mean_squared_error\n",
    "import math"
   ]
  },
  {
   "cell_type": "markdown",
   "id": "9704ddfd-1ebd-425a-81f7-eed67fe24246",
   "metadata": {},
   "source": [
    "## Mean and Weighted mean"
   ]
  },
  {
   "cell_type": "code",
   "execution_count": 6,
   "id": "18c3de13-9d18-49a9-90a7-49fc898ce8a6",
   "metadata": {},
   "outputs": [],
   "source": [
    "## Weightage mean\n",
    "def mean_el(prop_el):\n",
    "    return np.average(prop_el)\n",
    "\n",
    "def wt_mean(prop_el,list_weight):\n",
    "    list1=[(x/sum(prop_el)) for x in prop_el]\n",
    "    list2=[(x/sum(list_weight)) for x in list_weight]\n",
    "    m=[a*b for a,b in zip(prop_el,list2)]\n",
    "    return sum(m)\n"
   ]
  },
  {
   "cell_type": "markdown",
   "id": "7d3e4f69-6c4a-453a-85cf-7a16f0f5bb68",
   "metadata": {},
   "source": [
    "## Geometric mean"
   ]
  },
  {
   "cell_type": "code",
   "execution_count": 7,
   "id": "530417ee-0eb9-4f1d-97dc-543222561905",
   "metadata": {},
   "outputs": [],
   "source": [
    "def geomean(prop_el):\n",
    "    a= np.array(prop_el)\n",
    "    return a.prod()**(1.0/len(a))"
   ]
  },
  {
   "cell_type": "code",
   "execution_count": 8,
   "id": "b12d15da-77bc-4abc-aa08-46b30c15ec45",
   "metadata": {},
   "outputs": [
    {
     "data": {
      "text/plain": [
       "116.516"
      ]
     },
     "execution_count": 8,
     "metadata": {},
     "output_type": "execute_result"
    }
   ],
   "source": [
    "wt_mean([26.98,138.9],[1,4])"
   ]
  },
  {
   "cell_type": "code",
   "execution_count": 9,
   "id": "958a1157-f302-44d7-8197-d3819c8fc94e",
   "metadata": {},
   "outputs": [
    {
     "data": {
      "text/plain": [
       "116.516"
      ]
     },
     "execution_count": 9,
     "metadata": {},
     "output_type": "execute_result"
    }
   ],
   "source": [
    "wt_mean([26.98,138.9],[1,4])"
   ]
  },
  {
   "cell_type": "markdown",
   "id": "63ba293d-3b92-4b39-86a0-d33966523a7a",
   "metadata": {},
   "source": [
    "## Weighted geometric mean"
   ]
  },
  {
   "cell_type": "code",
   "execution_count": 10,
   "id": "fb9aab00-390c-467a-b8b0-06333e5429f0",
   "metadata": {},
   "outputs": [],
   "source": [
    "def wt_geomean(prop_el,list_weight):\n",
    "    temp=[]\n",
    "    for i in range(len(prop_el)):\n",
    "        temp.append(prop_el[i]**list_weight[i])\n",
    "    a=np.asarray(temp).prod()\n",
    "    \n",
    "    return a**(1/sum(list_weight))"
   ]
  },
  {
   "cell_type": "code",
   "execution_count": 11,
   "id": "cf7bb568-f58b-419b-b903-2c4b75997f01",
   "metadata": {},
   "outputs": [
    {
     "data": {
      "text/plain": [
       "46.58671045576934"
      ]
     },
     "execution_count": 11,
     "metadata": {},
     "output_type": "execute_result"
    }
   ],
   "source": [
    "wt_geomean([26.98,138.9],[2,1])"
   ]
  },
  {
   "cell_type": "markdown",
   "id": "52bd108a-9525-4e09-a0b8-dfa6384d2bea",
   "metadata": {},
   "source": [
    "## Entropy"
   ]
  },
  {
   "cell_type": "code",
   "execution_count": 12,
   "id": "5fb758cf-e45c-485d-909f-d6fee1a4a410",
   "metadata": {},
   "outputs": [],
   "source": [
    "def entropy(prop_el):\n",
    "    wi=[]\n",
    "    for i in range(len(prop_el)):\n",
    "        w=(prop_el[i]/sum(prop_el))\n",
    "        #print(w)\n",
    "        wi.append(-1*w*np.log(w))\n",
    "    return sum(wi)"
   ]
  },
  {
   "cell_type": "code",
   "execution_count": 13,
   "id": "0816af64-74bb-4d91-8cfc-3a12343e5657",
   "metadata": {},
   "outputs": [
    {
     "data": {
      "text/plain": [
       "0.6336091611028696"
      ]
     },
     "execution_count": 13,
     "metadata": {},
     "output_type": "execute_result"
    }
   ],
   "source": [
    "entropy([91.28,186])"
   ]
  },
  {
   "cell_type": "markdown",
   "id": "cb243fab-3001-4e22-a645-fbb36362192e",
   "metadata": {},
   "source": [
    "## Weighted entropy"
   ]
  },
  {
   "cell_type": "code",
   "execution_count": 14,
   "id": "f33aee9f-14f5-4bd1-84f3-0885a64eeb3d",
   "metadata": {},
   "outputs": [],
   "source": [
    "def wt_entropy(prop_el,list_weight):\n",
    "    pw=[]\n",
    "    entropy_wt=[]\n",
    "    for i in range(len(prop_el)):\n",
    "        w=(prop_el[i]/sum(prop_el))\n",
    "        p=list_weight[i]/sum(list_weight)\n",
    "        #p=list_weight[i]\n",
    "        pw.append(p*w)\n",
    "    for i in range(len(pw)):\n",
    "        Ai=pw[i]/sum(pw)\n",
    "        #print(Ai)\n",
    "        #print(sum(pw))\n",
    "        entropy_wt.append(-1*Ai*np.log(Ai))\n",
    "    return sum(entropy_wt)\n",
    "        "
   ]
  },
  {
   "cell_type": "markdown",
   "id": "5bf4d492-2022-4976-ac16-783d4865f304",
   "metadata": {},
   "source": [
    "## Range and Weighted range"
   ]
  },
  {
   "cell_type": "code",
   "execution_count": 15,
   "id": "2f1cd1f2-e359-48df-a3e8-171fcc68ad18",
   "metadata": {},
   "outputs": [],
   "source": [
    "def range_el(prop_el):\n",
    "    return max(prop_el)-min(prop_el)\n",
    "def wt_range_el(prop_el,weight_list):\n",
    "    \n",
    "    \n",
    "    return max(prop_el)*weight_list[np.argmax(prop_el)]/sum(weight_list)  - min(prop_el)*weight_list[np.argmin(prop_el)]/sum(weight_list)"
   ]
  },
  {
   "cell_type": "markdown",
   "id": "f8d60b6d-6061-480f-8321-8761025445f0",
   "metadata": {},
   "source": [
    "## Standard deviation and weighted standard deviation"
   ]
  },
  {
   "cell_type": "code",
   "execution_count": 16,
   "id": "028730bf-226f-439a-84e5-4acb7d0a957a",
   "metadata": {},
   "outputs": [],
   "source": [
    "def std_dv(prop_el):\n",
    "    return np.std(prop_el)\n",
    "\n",
    "def wt_std_dv(prop_el,weight_list):\n",
    "    wt_m=wt_mean(prop_el,weight_list)\n",
    "    #print(wt_m)\n",
    "    t=[]\n",
    "    for i in range(len(prop_el)):\n",
    "        m=prop_el[i]-wt_m\n",
    "        m=weight_list[i]*(1/sum(weight_list))*m**2\n",
    "        t.append(m)\n",
    "        \n",
    "    return sum(t)**(1/2)"
   ]
  },
  {
   "cell_type": "markdown",
   "id": "423ff1a8-72a6-4466-b91b-d387e87b3419",
   "metadata": {},
   "source": [
    "# feature engineering"
   ]
  },
  {
   "cell_type": "markdown",
   "id": "bc366369-aaaa-4a86-aea2-d24a6bf583a2",
   "metadata": {},
   "source": [
    "## Get statistical details of an element"
   ]
  },
  {
   "cell_type": "code",
   "execution_count": 17,
   "id": "915b1095-7cd8-4e73-8288-30689acf6577",
   "metadata": {},
   "outputs": [],
   "source": [
    "def get_stats(element_list,composition):\n",
    "    no_el=len(element_list)\n",
    "    mean_s=mean_el(element_list)\n",
    "    wt_mean1=wt_mean(element_list,composition)\n",
    "    geomean1=geomean(element_list)\n",
    "    wt_geomean1=wt_geomean(element_list,composition)\n",
    "    entropy1=entropy(element_list)\n",
    "    wt_entropy1=wt_entropy(element_list,composition)\n",
    "    range_el1=range_el(element_list)\n",
    "    wt_range_el1=wt_range_el(element_list,composition)\n",
    "    std_dv1=std_dv(element_list)\n",
    "    wt_std_dv1=wt_std_dv(element_list,composition)\n",
    "    return [no_el,mean_s,wt_mean1,geomean1,wt_geomean1,entropy1,wt_entropy1,range_el1,wt_range_el1,std_dv1,wt_std_dv1]\n"
   ]
  },
  {
   "cell_type": "code",
   "execution_count": 29,
   "id": "cb35cd6f-9dea-4ec3-a016-0d77961886f3",
   "metadata": {},
   "outputs": [
    {
     "data": {
      "text/plain": [
       "[2,\n",
       " 138.64,\n",
       " 154.42666666666668,\n",
       " 130.29996162700894,\n",
       " 146.71251881350724,\n",
       " 0.6336091611028696,\n",
       " 0.49625728370029376,\n",
       " 94.72,\n",
       " 93.57333333333334,\n",
       " 47.36,\n",
       " 44.65143620932652]"
      ]
     },
     "execution_count": 29,
     "metadata": {},
     "output_type": "execute_result"
    }
   ],
   "source": [
    "get_stats([91.28,186],[1,2])"
   ]
  },
  {
   "cell_type": "code",
   "execution_count": 19,
   "id": "9e12055c-1bcd-4e28-afb0-a56aaada8dbc",
   "metadata": {},
   "outputs": [],
   "source": [
    "import re\n",
    "r = re.compile(\"([a-zA-Z]+)([0-9]+)\")\n"
   ]
  },
  {
   "cell_type": "code",
   "execution_count": 20,
   "id": "54a02888-8f6a-4cb4-a5b4-9d40524b8e91",
   "metadata": {},
   "outputs": [
    {
     "name": "stdout",
     "output_type": "stream",
     "text": [
      "('Co', '12')\n"
     ]
    }
   ],
   "source": [
    "strings = 'Co12NA4'\n",
    "print(r.match(strings).groups(3))"
   ]
  },
  {
   "cell_type": "code",
   "execution_count": 22,
   "id": "f8cb609a-2e5d-4dbd-bc5b-5ed45d5a4301",
   "metadata": {},
   "outputs": [
    {
     "name": "stdout",
     "output_type": "stream",
     "text": [
      "['C', '12', 'H', '1']\n"
     ]
    }
   ],
   "source": [
    "s = \"C12H1\"\n",
    "sub = []\n",
    "char = \"\"\n",
    "num = \"\"\n",
    "for letter in s:\n",
    "    if letter.isdigit():\n",
    "        if char:\n",
    "            sub.append(char)\n",
    "            char = \"\"\n",
    "        num += letter\n",
    "    else:\n",
    "        if num:\n",
    "            sub.append(num)\n",
    "            num = \"\"\n",
    "        char += letter\n",
    "sub.append(char) if char else sub.append(num)\n",
    "print(sub)\n",
    "        "
   ]
  },
  {
   "cell_type": "code",
   "execution_count": 23,
   "id": "25be083b-84f6-467c-8579-a168f66ff3d4",
   "metadata": {},
   "outputs": [],
   "source": [
    "def compound_to_string(s):\n",
    "    sub = []\n",
    "    char = \"\"\n",
    "    num = \"\"\n",
    "    for letter in s:\n",
    "        if letter.isdigit():\n",
    "            if char:\n",
    "                sub.append(char)\n",
    "                char = \"\"\n",
    "            num += letter\n",
    "        else:\n",
    "            if num:\n",
    "                sub.append(num)\n",
    "                num = \"\"\n",
    "            char += letter\n",
    "    sub.append(char) if char else sub.append(num)\n",
    "    return sub"
   ]
  },
  {
   "cell_type": "code",
   "execution_count": 26,
   "id": "50b5f9cf-ac44-4fd9-a1fa-a8872c2df2a3",
   "metadata": {},
   "outputs": [],
   "source": [
    "def compound_to_stat(string):\n",
    "    t=compound_to_string(string)\n",
    "    element_list=[]\n",
    "    composition_list=[]\n",
    "    for i in range(len(t)):\n",
    "        if i ==0 or i%2==0:\n",
    "            element_list.append(t[i])\n",
    "        else:\n",
    "            composition_list.append(int(t[i]))\n",
    "    return element_list,composition_list\n",
    "        "
   ]
  },
  {
   "cell_type": "code",
   "execution_count": 27,
   "id": "d2ce834f-08f3-4dce-af40-139e091bf08a",
   "metadata": {},
   "outputs": [
    {
     "data": {
      "text/plain": [
       "['Ca', '1', 'H', '4', 'Naaa', '5']"
      ]
     },
     "execution_count": 27,
     "metadata": {},
     "output_type": "execute_result"
    }
   ],
   "source": [
    "compound_to_string('Ca1H4Naaa5')"
   ]
  },
  {
   "cell_type": "markdown",
   "id": "8793a0a6-bf80-4851-bc8c-da1cf0ad1e52",
   "metadata": {},
   "source": [
    "## Progress check"
   ]
  },
  {
   "cell_type": "code",
   "execution_count": 28,
   "id": "7753d456-e3f3-4e75-aefb-56a8835c2670",
   "metadata": {},
   "outputs": [
    {
     "data": {
      "text/plain": [
       "(['Ca', 'H', 'Naaa'], [1, 4, 5])"
      ]
     },
     "execution_count": 28,
     "metadata": {},
     "output_type": "execute_result"
    }
   ],
   "source": [
    "compound_to_stat('Ca1H4Naaa5')"
   ]
  },
  {
   "cell_type": "code",
   "execution_count": 37,
   "id": "a6c30223-4156-4782-a837-f1d62f3a8187",
   "metadata": {},
   "outputs": [],
   "source": [
    "d=pd.read_excel('database.xlsx',index_col=0,skiprows=1)"
   ]
  },
  {
   "cell_type": "code",
   "execution_count": 79,
   "id": "67a8d987-0b83-46ee-9b21-3d88bcbe1dd1",
   "metadata": {},
   "outputs": [],
   "source": [
    "#d"
   ]
  },
  {
   "cell_type": "code",
   "execution_count": 39,
   "id": "b5d07096-56fe-48f2-be14-b971f8bbc2cb",
   "metadata": {},
   "outputs": [],
   "source": [
    "properties=d.index.tolist()"
   ]
  },
  {
   "cell_type": "code",
   "execution_count": 76,
   "id": "9fd371cd-915b-4a79-859c-ceeb84afa603",
   "metadata": {},
   "outputs": [],
   "source": [
    "t='Si2Na1'\n",
    "el,qu=compound_to_stat(t)\n"
   ]
  },
  {
   "cell_type": "code",
   "execution_count": 77,
   "id": "fbc78b8d-9979-4151-b31d-8f2363b94554",
   "metadata": {},
   "outputs": [],
   "source": [
    "prop1=[]\n",
    "p='Molar volume'\n",
    "for i in el:\n",
    "    prop1.append(d.loc[p][i])\n",
    "t=get_stats(prop1,qu)\n"
   ]
  },
  {
   "cell_type": "code",
   "execution_count": 84,
   "id": "183f81d9-4597-4453-a85d-f329224767bf",
   "metadata": {},
   "outputs": [
    {
     "name": "stdout",
     "output_type": "stream",
     "text": [
      "[2, 12.5, 12.999999999999998, 12.409673645990857, 12.918623821828753, 0.6859298002523728, 0.594880254188934, 3.0, 5.666666666666668, 1.5, 1.414213562373095]\n",
      "[2, 25.53738464, 26.38658976, 25.409991543265026, 26.272081926870815, 0.6881628421059182, 0.6025294495344129, 5.09523072, 11.060076906666666, 2.54761536, 2.401914795881343]\n",
      "[2, 7.5, 9.666666666666666, 3.7416573867739413, 5.808785733563703, 0.24493002679463532, 0.1499949236104151, 13.0, 9.0, 6.5, 6.128258770283411]\n",
      "[2, 3.0, 3.0, 3.0, 3.0, 0.6931471805599453, 0.6365141682948128, 0.0, 0.0, 0.0, 0.0]\n",
      "[2, 1.5, 1.6666666666666665, 1.4142135623730951, 1.5874010519681994, 0.6365141682948128, 0.500402423538188, 1.0, 1.0, 0.5, 0.4714045207910317]\n",
      "[2, 1649.0, 1876.0, 1501.8122385970892, 1738.5842184871597, 0.6052657044634085, 0.4590388693960619, 1362.0, 1230.6666666666665, 681.0, 642.0529573173851]\n",
      "[2, 17.92, 15.966666666666665, 16.93478077803194, 15.122914215302576, 0.6386835763519336, 0.6931219886869282, 11.72, -0.11333333333333417, 5.86, 5.524860983670892]\n",
      "[2, 145.0, 146.66666666666666, 144.9137674618944, 146.58972088782372, 0.6925525323607232, 0.625491359725573, 10.0, 53.333333333333336, 5.0, 4.714045207910317]\n",
      "[2, 1028.935, 1248.29, 790.985265349488, 1018.1629509473793, 0.4717274115286756, 0.3229555763324425, 1316.13, 1001.0433333333334, 658.0649999999999, 620.4296319487005]\n",
      "[2, 2164.5, 2500.6666666666665, 1915.199206349042, 2266.205692368655, 0.5802887103188471, 0.4297423078568504, 2017.0, 1730.0000000000002, 1008.5, 950.8229184355109]\n",
      "[2, 1135.565, 1252.3766666666666, 1080.140351991351, 1201.3228295380684, 0.6447441563424576, 0.512589697482041, 700.87, 728.9566666666667, 350.435, 330.3932864868104]\n",
      "[2, 26.400000000000002, 34.333333333333336, 11.424535001478178, 18.71228948047915, 0.19627853735435513, 0.1177948584651963, 47.6, 32.6, 23.8, 22.438855189653108]\n",
      "[2, 228.35, 271.9, 187.2813391665064, 232.64540917473548, 0.5191120720929596, 0.3664753115144709, 261.3, 206.76666666666668, 130.64999999999998, 123.17800128269658]\n",
      "[2, 281.5, 339.6666666666667, 220.8891124523796, 281.2577431942247, 0.4863002206335021, 0.335942728772073, 349.0, 268.3333333333333, 174.5, 164.52017775607004]\n",
      "[2, 145.0, 133.33333333333331, 140.71247279470288, 129.62416101898714, 0.6637254974722313, 0.6881388137135884, 70.0, -13.333333333333329, 35.0, 32.99831645537222]\n",
      "[2, 138.5, 129.33333333333331, 135.74240310234677, 126.9359629214009, 0.6733033357438176, 0.6826951549767988, 55.0, -18.666666666666664, 27.5, 25.92724864350674]\n",
      "[2, 135.5, 129.0, 134.08952233489387, 127.76617467978038, 0.6827558862272229, 0.6732206533681097, 39.0, -25.666666666666664, 19.5, 18.384776310850235]\n",
      "[2, 133.5, 124.66666666666666, 130.843417870369, 122.35710117541655, 0.6733142174832598, 0.6826871405907657, 53.0, -17.999999999999993, 26.5, 24.984439601924677]\n",
      "[2, 234.5, 229.33333333333331, 233.9871791359518, 228.88082635516008, 0.6909611089678672, 0.6553337329763014, 31.0, -62.66666666666667, 15.5, 14.613540144521982]\n",
      "[2, 1.415, 1.5766666666666667, 1.3292855223765885, 1.4973731803420314, 0.633198393849085, 0.4956771455806925, 0.9699999999999999, 0.9566666666666666, 0.48499999999999993, 0.45726238516730067]\n",
      "[2, 228.0, 227.66666666666663, 227.99780700699733, 227.66471828917597, 0.6931375621850017, 0.6378587443076964, 2.0, -75.00000000000001, 1.0, 0.9428090415820634]\n",
      "[2, 4.5, 4.666666666666666, 4.47213595499958, 4.641588833612778, 0.6869615765973234, 0.5982695885852573, 1.0, 2.0, 0.5, 0.4714045207910317]\n",
      "[2, 486.07500000000005, 505.08, 482.7195825735683, 502.05798674587453, 0.6862520588672103, 0.5959159520682862, 114.03000000000003, 219.04, 57.015000000000015, 53.754257505801355]\n",
      "[2, 486.07500000000005, 505.08, 482.7195825735683, 502.05798674587453, 0.6862520588672103, 0.5959159520682862, 114.03000000000003, 219.04, 57.015000000000015, 53.754257505801355]\n",
      "[2, 486.07500000000005, 505.08, 482.7195825735683, 502.05798674587453, 0.6862520588672103, 0.5959159520682862, 114.03000000000003, 219.04, 57.015000000000015, 53.754257505801355]\n",
      "[2, 90.0, 90.0, 90.0, 89.99999999999997, 0.6931471805599453, 0.6365141682948128, 0.0, 0.0, 0.0, 0.0]\n",
      "[2, 90.0, 90.0, 90.0, 89.99999999999997, 0.6931471805599453, 0.6365141682948128, 0.0, 0.0, 0.0, 0.0]\n",
      "[2, 90.0, 90.0, 90.0, 89.99999999999997, 0.6931471805599453, 0.6365141682948128, 0.0, 0.0, 0.0, 0.0]\n",
      "[2, 641.185, 689.6299999999999, 624.4965508311475, 674.4088895839374, 0.6672337653641658, 0.550698761818889, 290.66999999999996, 359.0633333333334, 145.33499999999998, 137.02315205832917]\n",
      "[2, 3069.785, 2572.233333333333, 2682.4542861342484, 2247.212027710638, 0.5697676574904811, 0.6764031755854523, 2985.3099999999995, 469.3933333333332, 1492.6549999999997, 1407.2886299626746]\n",
      "[2, 5070.93, 4457.813333333333, 4725.581725290549, 4163.339460340066, 0.6258384057738551, 0.6925881791958035, 3678.7, 149.03999999999996, 1839.35, 1734.1558106339683]\n"
     ]
    }
   ],
   "source": [
    "t='Si2Na1'\n",
    "el,qu=compound_to_stat(t)\n",
    "expand_list=[]\n",
    "for each in properties:\n",
    "    prop1=[]\n",
    "    p=each\n",
    "    for i in el:\n",
    "        prop1.append(d.loc[p][i])\n",
    "    t=get_stats(prop1,qu)\n",
    "    print(t)\n",
    "    expand=expand_list.extend(t)\n",
    "    "
   ]
  },
  {
   "cell_type": "code",
   "execution_count": 86,
   "id": "a796c4b7-a11e-4fb5-a147-d64e18da35c5",
   "metadata": {},
   "outputs": [
    {
     "data": {
      "text/plain": [
       "341"
      ]
     },
     "execution_count": 86,
     "metadata": {},
     "output_type": "execute_result"
    }
   ],
   "source": [
    "len(expand_list)"
   ]
  },
  {
   "cell_type": "code",
   "execution_count": 83,
   "id": "fa60d408-c9e6-47d6-ba0b-4ec940ca0f6e",
   "metadata": {},
   "outputs": [],
   "source": [
    "expand"
   ]
  },
  {
   "cell_type": "code",
   "execution_count": null,
   "id": "b2f2e0ef-020f-445a-a24f-33428a93f049",
   "metadata": {},
   "outputs": [],
   "source": []
  },
  {
   "cell_type": "code",
   "execution_count": 51,
   "id": "8f78dbc0-180f-4285-a492-ce9aa7ccf93e",
   "metadata": {},
   "outputs": [
    {
     "data": {
      "text/plain": [
       "[12.06, 23.78]"
      ]
     },
     "execution_count": 51,
     "metadata": {},
     "output_type": "execute_result"
    }
   ],
   "source": [
    "prop1"
   ]
  },
  {
   "cell_type": "code",
   "execution_count": null,
   "id": "efe7e105-fafc-4a23-a51f-1561cf04279e",
   "metadata": {},
   "outputs": [],
   "source": [
    "data={}\n",
    "for prop in properties:\n",
    "    compound_to_stat('Ca1H4Naaa5')\n",
    "    "
   ]
  },
  {
   "cell_type": "code",
   "execution_count": 40,
   "id": "f5de782f-8116-4126-a8ba-478c30cdf1a7",
   "metadata": {},
   "outputs": [
    {
     "data": {
      "text/plain": [
       "['Atomic number',\n",
       " 'Relative atomic mass (Ar)',\n",
       " 'Group in periodic table',\n",
       " 'Period in periodic table',\n",
       " 'Block in 2erio3ic table',\n",
       " 'Density of solid',\n",
       " 'Molar volume',\n",
       " 'Thermal conductivity',\n",
       " 'Melting point',\n",
       " 'Boiling point',\n",
       " 'Liquid range',\n",
       " 'Enthalpy of fusion',\n",
       " 'Enthalpy of vaporisation',\n",
       " 'Enthalpy of atomisation',\n",
       " 'Atomic radius (empirical)',\n",
       " 'Covalent radius (2008 values)',\n",
       " 'Molecular single bond covalent radius',\n",
       " 'Molecular double bond covalent radius',\n",
       " 'van der Waals radius',\n",
       " 'electronegativity',\n",
       " 'Space group number',\n",
       " 'Structure',\n",
       " 'a',\n",
       " 'b',\n",
       " 'c',\n",
       " 'α',\n",
       " 'β',\n",
       " 'γ',\n",
       " ' First ionisation energy',\n",
       " ' Second ionisation energy',\n",
       " ' Third ionisation energy']"
      ]
     },
     "execution_count": 40,
     "metadata": {},
     "output_type": "execute_result"
    }
   ],
   "source": [
    "properties"
   ]
  }
 ],
 "metadata": {
  "kernelspec": {
   "display_name": "Python 3",
   "language": "python",
   "name": "python3"
  },
  "language_info": {
   "codemirror_mode": {
    "name": "ipython",
    "version": 3
   },
   "file_extension": ".py",
   "mimetype": "text/x-python",
   "name": "python",
   "nbconvert_exporter": "python",
   "pygments_lexer": "ipython3",
   "version": "3.8.8"
  }
 },
 "nbformat": 4,
 "nbformat_minor": 5
}
