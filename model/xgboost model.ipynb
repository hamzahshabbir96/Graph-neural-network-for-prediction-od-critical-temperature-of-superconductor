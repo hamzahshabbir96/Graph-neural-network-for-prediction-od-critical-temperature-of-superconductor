{
 "cells": [
  {
   "cell_type": "markdown",
   "id": "65240041-1311-4b58-93f6-9fbce9f0c3ab",
   "metadata": {},
   "source": [
    "# Feature importances estimation"
   ]
  },
  {
   "cell_type": "code",
   "execution_count": 2,
   "id": "ac70b4d5-69b1-41e4-aa2d-bd04dd96b5ee",
   "metadata": {},
   "outputs": [],
   "source": [
    "import xgboost as xgb\n"
   ]
  },
  {
   "cell_type": "code",
   "execution_count": 3,
   "id": "0f823a0c-fa81-478b-9879-d4273229ec09",
   "metadata": {},
   "outputs": [],
   "source": [
    "import pandas as pd\n",
    "import numpy as np\n",
    "import seaborn as sns\n",
    "import matplotlib.pyplot as plt\n",
    "import pandas as pd\n",
    "from sklearn.model_selection import train_test_split\n",
    "from sklearn.metrics import mean_squared_error,mean_absolute_percentage_error"
   ]
  },
  {
   "cell_type": "code",
   "execution_count": 6,
   "id": "33006779-07b7-4da9-824b-2b1cd2dac54a",
   "metadata": {},
   "outputs": [],
   "source": [
    "import math\n",
    "import itertools\n",
    "import optunity\n",
    "import optunity.metrics\n",
    "import sklearn.svm"
   ]
  },
  {
   "cell_type": "code",
   "execution_count": 40,
   "id": "b1127df3-8141-4cc5-9d6a-8f475a805422",
   "metadata": {},
   "outputs": [
    {
     "data": {
      "text/plain": [
       "'\\nfrom sklearn.preprocessing import StandardScaler\\nsc_X = StandardScaler()\\nsc_y = StandardScaler()\\n\\nX_train = sc_X.fit_transform(X_train)\\nX_test = sc_X.fit_transform(X_test)\\n\\ny_train = sc_y.fit_transform(np.asarray(y_train).reshape(-1, 1))\\n#y_test = sc_y.fit_transform(X_test)\\n\\n#Y = sc_y.fit_transform(np.asarray(y).reshape(-1, 1))\\n'"
      ]
     },
     "execution_count": 40,
     "metadata": {},
     "output_type": "execute_result"
    }
   ],
   "source": [
    "file = pd.read_csv('train2.csv')\n",
    "y=file['critical_temp']\n",
    "x= file.drop(['critical_temp'],axis=1)\n",
    "X_train, X_test, y_train, y_test = train_test_split(x, y, test_size=0.05, random_state=42)\n"
   ]
  },
  {
   "cell_type": "code",
   "execution_count": 8,
   "id": "fa721645-6c38-428c-ab50-9d761d53dbaa",
   "metadata": {},
   "outputs": [],
   "source": [
    "data_dmatrix = xgb.DMatrix(data=X_train,label=y_train)"
   ]
  },
  {
   "cell_type": "code",
   "execution_count": 27,
   "id": "90283956-b37e-4d55-8e46-7a6747597a3a",
   "metadata": {},
   "outputs": [],
   "source": [
    "xg_reg = xgb.XGBRegressor(objective ='reg:linear', colsample_bytree = 0.3, learning_rate = 0.1,\n",
    "                max_depth = 15, alpha = 10, n_estimators = 100)"
   ]
  },
  {
   "cell_type": "code",
   "execution_count": 28,
   "id": "a7dcc823-3f10-4d6d-ab78-be825eca047d",
   "metadata": {},
   "outputs": [
    {
     "name": "stdout",
     "output_type": "stream",
     "text": [
      "[16:23:52] WARNING: C:/Users/Administrator/workspace/xgboost-win64_release_1.6.0/src/objective/regression_obj.cu:203: reg:linear is now deprecated in favor of reg:squarederror.\n"
     ]
    },
    {
     "data": {
      "text/plain": [
       "XGBRegressor(alpha=10, base_score=0.5, booster='gbtree', callbacks=None,\n",
       "             colsample_bylevel=1, colsample_bynode=1, colsample_bytree=0.3,\n",
       "             early_stopping_rounds=None, enable_categorical=False,\n",
       "             eval_metric=None, gamma=0, gpu_id=-1, grow_policy='depthwise',\n",
       "             importance_type=None, interaction_constraints='',\n",
       "             learning_rate=0.1, max_bin=256, max_cat_to_onehot=4,\n",
       "             max_delta_step=0, max_depth=15, max_leaves=0, min_child_weight=1,\n",
       "             missing=nan, monotone_constraints='()', n_estimators=100, n_jobs=0,\n",
       "             num_parallel_tree=1, objective='reg:linear', predictor='auto',\n",
       "             random_state=0, ...)"
      ]
     },
     "execution_count": 28,
     "metadata": {},
     "output_type": "execute_result"
    }
   ],
   "source": [
    "xg_reg.fit(X_train,y_train)\n",
    "\n"
   ]
  },
  {
   "cell_type": "code",
   "execution_count": 29,
   "id": "93e760c1-7ae7-4cae-9a32-d4899185dfdc",
   "metadata": {},
   "outputs": [],
   "source": [
    "preds = xg_reg.predict(X_test)"
   ]
  },
  {
   "cell_type": "code",
   "execution_count": 30,
   "id": "ce1930bc-692d-455c-9503-5204b28741ac",
   "metadata": {},
   "outputs": [
    {
     "name": "stdout",
     "output_type": "stream",
     "text": [
      "RMSE: 8.167545\n"
     ]
    }
   ],
   "source": [
    "rmse = np.sqrt(mean_squared_error(y_test, preds))\n",
    "print(\"RMSE: %f\" % (rmse))"
   ]
  },
  {
   "cell_type": "code",
   "execution_count": 48,
   "id": "6b19421f-9113-4c52-8086-32cc565f72b0",
   "metadata": {},
   "outputs": [],
   "source": [
    "Y_pred=preds"
   ]
  },
  {
   "cell_type": "code",
   "execution_count": 32,
   "id": "91f5d3a0-6dab-4b58-b293-e1f5ffa5acdd",
   "metadata": {},
   "outputs": [],
   "source": [
    "#Y_pred = regressor.predict(X_test) \n",
    "#Y_pred=sc_y.inverse_transform(Y_pred.reshape(-1, 1))"
   ]
  },
  {
   "cell_type": "code",
   "execution_count": 33,
   "id": "aa385cc5-508d-4b8a-9b95-a51b962def43",
   "metadata": {},
   "outputs": [],
   "source": [
    "error=mean_absolute_percentage_error(y_test, Y_pred)\n"
   ]
  },
  {
   "cell_type": "code",
   "execution_count": 34,
   "id": "72a01306-04de-4c29-a7a7-12f675293d4f",
   "metadata": {},
   "outputs": [
    {
     "data": {
      "text/plain": [
       "0.4264614081557933"
      ]
     },
     "execution_count": 34,
     "metadata": {},
     "output_type": "execute_result"
    }
   ],
   "source": [
    "error"
   ]
  },
  {
   "cell_type": "code",
   "execution_count": 25,
   "id": "4727ac00-955d-4c07-ade1-1ec85d6d32da",
   "metadata": {},
   "outputs": [],
   "source": [
    "from sklearn.metrics import r2_score\n",
    "\n",
    "coefficient_of_dermination = r2_score(y_test, Y_pred)"
   ]
  },
  {
   "cell_type": "code",
   "execution_count": 26,
   "id": "4e409a6c-7578-4ee0-8ab0-e5d012cfcbc7",
   "metadata": {},
   "outputs": [
    {
     "data": {
      "text/plain": [
       "0.9135463118203577"
      ]
     },
     "execution_count": 26,
     "metadata": {},
     "output_type": "execute_result"
    }
   ],
   "source": [
    "coefficient_of_dermination"
   ]
  },
  {
   "cell_type": "code",
   "execution_count": 41,
   "id": "d91e71d4-386b-4b77-b113-3b1ea33b7068",
   "metadata": {},
   "outputs": [
    {
     "data": {
      "text/plain": [
       "8.16754520148415"
      ]
     },
     "execution_count": 41,
     "metadata": {},
     "output_type": "execute_result"
    }
   ],
   "source": [
    "from sklearn.metrics import mean_squared_error\n",
    "import math\n",
    "MSE = mean_squared_error(y_test, Y_pred)\n",
    " \n",
    "RMSE = math.sqrt(MSE)\n",
    "RMSE"
   ]
  },
  {
   "cell_type": "code",
   "execution_count": 45,
   "id": "11980da0-2bd0-474e-9a02-375445619262",
   "metadata": {},
   "outputs": [
    {
     "data": {
      "text/plain": [
       "pandas.core.series.Series"
      ]
     },
     "execution_count": 45,
     "metadata": {},
     "output_type": "execute_result"
    }
   ],
   "source": [
    "type(y_test)"
   ]
  },
  {
   "cell_type": "code",
   "execution_count": 35,
   "id": "cea77c98-6d4a-4e31-865f-0cf586688854",
   "metadata": {},
   "outputs": [],
   "source": [
    "Y_pred=pd.DataFrame(Y_pred)"
   ]
  },
  {
   "cell_type": "code",
   "execution_count": 36,
   "id": "6eb99e9f-10ce-4f9f-a688-f5c45f49ad87",
   "metadata": {},
   "outputs": [],
   "source": [
    "y_test=pd.DataFrame(y_test)\n",
    "y_test['Predicted']=Y_pred"
   ]
  },
  {
   "cell_type": "code",
   "execution_count": 49,
   "id": "7f705361-d844-43b6-a5cd-2f5ee173247a",
   "metadata": {},
   "outputs": [],
   "source": [
    "dict = {'Predicted Critical Temperature':Y_pred , 'Real Crtitical Temperature': y_test.array} \n",
    "    \n",
    "df = pd.DataFrame(dict)"
   ]
  },
  {
   "cell_type": "code",
   "execution_count": 50,
   "id": "0360da1a-43db-40df-bf4d-52d7e30e1ea0",
   "metadata": {},
   "outputs": [],
   "source": [
    "df.to_excel('xgboost.xlsx')"
   ]
  },
  {
   "cell_type": "code",
   "execution_count": null,
   "id": "f24c246d-2c55-4db2-aec3-eed0283a9f91",
   "metadata": {},
   "outputs": [],
   "source": []
  },
  {
   "cell_type": "code",
   "execution_count": null,
   "id": "f774d006-f3e5-4a18-bce9-5cfeddefd71f",
   "metadata": {},
   "outputs": [],
   "source": []
  },
  {
   "cell_type": "code",
   "execution_count": null,
   "id": "32752a01-b2aa-4a90-812d-efed54e5e0e0",
   "metadata": {},
   "outputs": [],
   "source": []
  },
  {
   "cell_type": "code",
   "execution_count": null,
   "id": "5ae47698-9c92-4bcf-9b0d-a3f3a0b4f80e",
   "metadata": {},
   "outputs": [],
   "source": []
  },
  {
   "cell_type": "code",
   "execution_count": 12,
   "id": "c6ac5066-f5f1-424a-bae4-bcc388eca486",
   "metadata": {},
   "outputs": [],
   "source": [
    "outer_cv = optunity.cross_validated(x=file, y=y, num_folds=3)\n",
    "\n",
    "def compute_mse_standard(x_train, y_train, x_test, y_test):\n",
    "    \"\"\"Computes MSE of an SVR with RBF kernel and default hyperparameters.\n",
    "    \"\"\"\n",
    "    model = sklearn.svm.SVR().fit(x_train, y_train)\n",
    "    predictions = model.predict(x_test)\n",
    "    return optunity.metrics.mse(y_test, predictions)\n",
    "\n",
    "# wrap with outer cross-validation\n",
    "compute_mse_standard = outer_cv(compute_mse_standard)"
   ]
  },
  {
   "cell_type": "code",
   "execution_count": null,
   "id": "a7abacef-8706-481b-a97d-025f83f27b5f",
   "metadata": {},
   "outputs": [],
   "source": []
  },
  {
   "cell_type": "code",
   "execution_count": 2,
   "id": "85ac22a5-6dd3-44b9-b2a4-01a9ae17ae61",
   "metadata": {},
   "outputs": [],
   "source": [
    "from sklearn.svm import SVR\n",
    "from sklearn.pipeline import make_pipeline\n",
    "from sklearn.preprocessing import StandardScaler\n",
    "import numpy as np"
   ]
  },
  {
   "cell_type": "code",
   "execution_count": 2,
   "id": "4bbe7004-bcf9-41ce-a43e-980ac315ac12",
   "metadata": {},
   "outputs": [],
   "source": [
    "file = pd.read_csv('train2.csv')\n",
    "y=file['critical_temp']\n",
    "x= file.drop(['critical_temp'],axis=1)\n",
    "X_train, X_test, y_train, y_test = train_test_split(x, y, test_size=0.05, random_state=42)"
   ]
  },
  {
   "cell_type": "code",
   "execution_count": 3,
   "id": "e670e81a-a629-4ad6-b421-6bf05d9cf727",
   "metadata": {},
   "outputs": [
    {
     "data": {
      "text/html": [
       "<div>\n",
       "<style scoped>\n",
       "    .dataframe tbody tr th:only-of-type {\n",
       "        vertical-align: middle;\n",
       "    }\n",
       "\n",
       "    .dataframe tbody tr th {\n",
       "        vertical-align: top;\n",
       "    }\n",
       "\n",
       "    .dataframe thead th {\n",
       "        text-align: right;\n",
       "    }\n",
       "</style>\n",
       "<table border=\"1\" class=\"dataframe\">\n",
       "  <thead>\n",
       "    <tr style=\"text-align: right;\">\n",
       "      <th></th>\n",
       "      <th>number_of_elements</th>\n",
       "      <th>mean_atomic_mass</th>\n",
       "      <th>wtd_mean_atomic_mass</th>\n",
       "      <th>gmean_atomic_mass</th>\n",
       "      <th>wtd_gmean_atomic_mass</th>\n",
       "      <th>entropy_atomic_mass</th>\n",
       "      <th>wtd_entropy_atomic_mass</th>\n",
       "      <th>range_atomic_mass</th>\n",
       "      <th>wtd_range_atomic_mass</th>\n",
       "      <th>std_atomic_mass</th>\n",
       "      <th>...</th>\n",
       "      <th>wtd_mean_Valence</th>\n",
       "      <th>gmean_Valence</th>\n",
       "      <th>wtd_gmean_Valence</th>\n",
       "      <th>entropy_Valence</th>\n",
       "      <th>wtd_entropy_Valence</th>\n",
       "      <th>range_Valence</th>\n",
       "      <th>wtd_range_Valence</th>\n",
       "      <th>std_Valence</th>\n",
       "      <th>wtd_std_Valence</th>\n",
       "      <th>critical_temp</th>\n",
       "    </tr>\n",
       "  </thead>\n",
       "  <tbody>\n",
       "    <tr>\n",
       "      <th>0</th>\n",
       "      <td>4</td>\n",
       "      <td>88.944468</td>\n",
       "      <td>57.862692</td>\n",
       "      <td>66.361592</td>\n",
       "      <td>36.116612</td>\n",
       "      <td>1.181795</td>\n",
       "      <td>1.062396</td>\n",
       "      <td>122.90607</td>\n",
       "      <td>31.794921</td>\n",
       "      <td>51.968828</td>\n",
       "      <td>...</td>\n",
       "      <td>2.257143</td>\n",
       "      <td>2.213364</td>\n",
       "      <td>2.219783</td>\n",
       "      <td>1.368922</td>\n",
       "      <td>1.066221</td>\n",
       "      <td>1</td>\n",
       "      <td>1.085714</td>\n",
       "      <td>0.433013</td>\n",
       "      <td>0.437059</td>\n",
       "      <td>29.0</td>\n",
       "    </tr>\n",
       "    <tr>\n",
       "      <th>1</th>\n",
       "      <td>5</td>\n",
       "      <td>92.729214</td>\n",
       "      <td>58.518416</td>\n",
       "      <td>73.132787</td>\n",
       "      <td>36.396602</td>\n",
       "      <td>1.449309</td>\n",
       "      <td>1.057755</td>\n",
       "      <td>122.90607</td>\n",
       "      <td>36.161939</td>\n",
       "      <td>47.094633</td>\n",
       "      <td>...</td>\n",
       "      <td>2.257143</td>\n",
       "      <td>1.888175</td>\n",
       "      <td>2.210679</td>\n",
       "      <td>1.557113</td>\n",
       "      <td>1.047221</td>\n",
       "      <td>2</td>\n",
       "      <td>1.128571</td>\n",
       "      <td>0.632456</td>\n",
       "      <td>0.468606</td>\n",
       "      <td>26.0</td>\n",
       "    </tr>\n",
       "    <tr>\n",
       "      <th>2</th>\n",
       "      <td>4</td>\n",
       "      <td>88.944468</td>\n",
       "      <td>57.885242</td>\n",
       "      <td>66.361592</td>\n",
       "      <td>36.122509</td>\n",
       "      <td>1.181795</td>\n",
       "      <td>0.975980</td>\n",
       "      <td>122.90607</td>\n",
       "      <td>35.741099</td>\n",
       "      <td>51.968828</td>\n",
       "      <td>...</td>\n",
       "      <td>2.271429</td>\n",
       "      <td>2.213364</td>\n",
       "      <td>2.232679</td>\n",
       "      <td>1.368922</td>\n",
       "      <td>1.029175</td>\n",
       "      <td>1</td>\n",
       "      <td>1.114286</td>\n",
       "      <td>0.433013</td>\n",
       "      <td>0.444697</td>\n",
       "      <td>19.0</td>\n",
       "    </tr>\n",
       "    <tr>\n",
       "      <th>3</th>\n",
       "      <td>4</td>\n",
       "      <td>88.944468</td>\n",
       "      <td>57.873967</td>\n",
       "      <td>66.361592</td>\n",
       "      <td>36.119560</td>\n",
       "      <td>1.181795</td>\n",
       "      <td>1.022291</td>\n",
       "      <td>122.90607</td>\n",
       "      <td>33.768010</td>\n",
       "      <td>51.968828</td>\n",
       "      <td>...</td>\n",
       "      <td>2.264286</td>\n",
       "      <td>2.213364</td>\n",
       "      <td>2.226222</td>\n",
       "      <td>1.368922</td>\n",
       "      <td>1.048834</td>\n",
       "      <td>1</td>\n",
       "      <td>1.100000</td>\n",
       "      <td>0.433013</td>\n",
       "      <td>0.440952</td>\n",
       "      <td>22.0</td>\n",
       "    </tr>\n",
       "    <tr>\n",
       "      <th>4</th>\n",
       "      <td>4</td>\n",
       "      <td>88.944468</td>\n",
       "      <td>57.840143</td>\n",
       "      <td>66.361592</td>\n",
       "      <td>36.110716</td>\n",
       "      <td>1.181795</td>\n",
       "      <td>1.129224</td>\n",
       "      <td>122.90607</td>\n",
       "      <td>27.848743</td>\n",
       "      <td>51.968828</td>\n",
       "      <td>...</td>\n",
       "      <td>2.242857</td>\n",
       "      <td>2.213364</td>\n",
       "      <td>2.206963</td>\n",
       "      <td>1.368922</td>\n",
       "      <td>1.096052</td>\n",
       "      <td>1</td>\n",
       "      <td>1.057143</td>\n",
       "      <td>0.433013</td>\n",
       "      <td>0.428809</td>\n",
       "      <td>23.0</td>\n",
       "    </tr>\n",
       "  </tbody>\n",
       "</table>\n",
       "<p>5 rows × 82 columns</p>\n",
       "</div>"
      ],
      "text/plain": [
       "   number_of_elements  mean_atomic_mass  wtd_mean_atomic_mass  \\\n",
       "0                   4         88.944468             57.862692   \n",
       "1                   5         92.729214             58.518416   \n",
       "2                   4         88.944468             57.885242   \n",
       "3                   4         88.944468             57.873967   \n",
       "4                   4         88.944468             57.840143   \n",
       "\n",
       "   gmean_atomic_mass  wtd_gmean_atomic_mass  entropy_atomic_mass  \\\n",
       "0          66.361592              36.116612             1.181795   \n",
       "1          73.132787              36.396602             1.449309   \n",
       "2          66.361592              36.122509             1.181795   \n",
       "3          66.361592              36.119560             1.181795   \n",
       "4          66.361592              36.110716             1.181795   \n",
       "\n",
       "   wtd_entropy_atomic_mass  range_atomic_mass  wtd_range_atomic_mass  \\\n",
       "0                 1.062396          122.90607              31.794921   \n",
       "1                 1.057755          122.90607              36.161939   \n",
       "2                 0.975980          122.90607              35.741099   \n",
       "3                 1.022291          122.90607              33.768010   \n",
       "4                 1.129224          122.90607              27.848743   \n",
       "\n",
       "   std_atomic_mass  ...  wtd_mean_Valence  gmean_Valence  wtd_gmean_Valence  \\\n",
       "0        51.968828  ...          2.257143       2.213364           2.219783   \n",
       "1        47.094633  ...          2.257143       1.888175           2.210679   \n",
       "2        51.968828  ...          2.271429       2.213364           2.232679   \n",
       "3        51.968828  ...          2.264286       2.213364           2.226222   \n",
       "4        51.968828  ...          2.242857       2.213364           2.206963   \n",
       "\n",
       "   entropy_Valence  wtd_entropy_Valence  range_Valence  wtd_range_Valence  \\\n",
       "0         1.368922             1.066221              1           1.085714   \n",
       "1         1.557113             1.047221              2           1.128571   \n",
       "2         1.368922             1.029175              1           1.114286   \n",
       "3         1.368922             1.048834              1           1.100000   \n",
       "4         1.368922             1.096052              1           1.057143   \n",
       "\n",
       "   std_Valence  wtd_std_Valence  critical_temp  \n",
       "0     0.433013         0.437059           29.0  \n",
       "1     0.632456         0.468606           26.0  \n",
       "2     0.433013         0.444697           19.0  \n",
       "3     0.433013         0.440952           22.0  \n",
       "4     0.433013         0.428809           23.0  \n",
       "\n",
       "[5 rows x 82 columns]"
      ]
     },
     "execution_count": 3,
     "metadata": {},
     "output_type": "execute_result"
    }
   ],
   "source": [
    "file.head()"
   ]
  },
  {
   "cell_type": "code",
   "execution_count": 56,
   "id": "4602215f-6908-4854-bbe9-be3607948a61",
   "metadata": {},
   "outputs": [],
   "source": []
  },
  {
   "cell_type": "code",
   "execution_count": 58,
   "id": "a31ab5c8-8c22-401b-bf0c-40cfee949ad9",
   "metadata": {},
   "outputs": [],
   "source": []
  },
  {
   "cell_type": "code",
   "execution_count": 59,
   "id": "96a441c7-fea4-4b61-afa8-2ec560d86f8b",
   "metadata": {},
   "outputs": [],
   "source": []
  },
  {
   "cell_type": "code",
   "execution_count": null,
   "id": "fcc5b890-4f3b-48b9-b2ae-03f4245c6fac",
   "metadata": {},
   "outputs": [],
   "source": []
  },
  {
   "cell_type": "code",
   "execution_count": 14,
   "id": "f76b79c9-1da4-4d5e-8e80-3d36d34f815e",
   "metadata": {},
   "outputs": [],
   "source": [
    "# decision tree for feature importance on a regression problem\n",
    "y=low_temperature['critical_temp']\n",
    "index_1=low_temperature.columns.tolist()[0:-1]\n",
    "X=low_temperature[index_1]\n",
    "from sklearn.datasets import make_regression\n",
    "from sklearn.tree import DecisionTreeRegressor\n",
    "from matplotlib import pyplot\n",
    "# define dataset\n",
    "#X, y = make_regression(n_samples=1000, n_features=10, n_informative=5, random_state=1)\n",
    "# define the model\n",
    "model = DecisionTreeRegressor()\n",
    "# fit the model\n",
    "model.fit(X, y)\n",
    "# get importance\n",
    "importance = model.feature_importances_\n"
   ]
  },
  {
   "cell_type": "code",
   "execution_count": 15,
   "id": "e4cd448c-a48b-4c1f-b7e1-fc908580fe79",
   "metadata": {},
   "outputs": [
    {
     "data": {
      "text/html": [
       "<div>\n",
       "<style scoped>\n",
       "    .dataframe tbody tr th:only-of-type {\n",
       "        vertical-align: middle;\n",
       "    }\n",
       "\n",
       "    .dataframe tbody tr th {\n",
       "        vertical-align: top;\n",
       "    }\n",
       "\n",
       "    .dataframe thead th {\n",
       "        text-align: right;\n",
       "    }\n",
       "</style>\n",
       "<table border=\"1\" class=\"dataframe\">\n",
       "  <thead>\n",
       "    <tr style=\"text-align: right;\">\n",
       "      <th></th>\n",
       "      <th>Features</th>\n",
       "      <th>importance</th>\n",
       "    </tr>\n",
       "  </thead>\n",
       "  <tbody>\n",
       "    <tr>\n",
       "      <th>0</th>\n",
       "      <td>number_of_elements</td>\n",
       "      <td>0.000010</td>\n",
       "    </tr>\n",
       "    <tr>\n",
       "      <th>1</th>\n",
       "      <td>mean_atomic_mass</td>\n",
       "      <td>0.003407</td>\n",
       "    </tr>\n",
       "    <tr>\n",
       "      <th>2</th>\n",
       "      <td>wtd_mean_atomic_mass</td>\n",
       "      <td>0.012673</td>\n",
       "    </tr>\n",
       "    <tr>\n",
       "      <th>3</th>\n",
       "      <td>gmean_atomic_mass</td>\n",
       "      <td>0.001508</td>\n",
       "    </tr>\n",
       "    <tr>\n",
       "      <th>4</th>\n",
       "      <td>wtd_gmean_atomic_mass</td>\n",
       "      <td>0.002014</td>\n",
       "    </tr>\n",
       "    <tr>\n",
       "      <th>...</th>\n",
       "      <td>...</td>\n",
       "      <td>...</td>\n",
       "    </tr>\n",
       "    <tr>\n",
       "      <th>76</th>\n",
       "      <td>wtd_entropy_Valence</td>\n",
       "      <td>0.002815</td>\n",
       "    </tr>\n",
       "    <tr>\n",
       "      <th>77</th>\n",
       "      <td>range_Valence</td>\n",
       "      <td>0.000380</td>\n",
       "    </tr>\n",
       "    <tr>\n",
       "      <th>78</th>\n",
       "      <td>wtd_range_Valence</td>\n",
       "      <td>0.028092</td>\n",
       "    </tr>\n",
       "    <tr>\n",
       "      <th>79</th>\n",
       "      <td>std_Valence</td>\n",
       "      <td>0.000625</td>\n",
       "    </tr>\n",
       "    <tr>\n",
       "      <th>80</th>\n",
       "      <td>wtd_std_Valence</td>\n",
       "      <td>0.007973</td>\n",
       "    </tr>\n",
       "  </tbody>\n",
       "</table>\n",
       "<p>81 rows × 2 columns</p>\n",
       "</div>"
      ],
      "text/plain": [
       "                 Features  importance\n",
       "0      number_of_elements    0.000010\n",
       "1        mean_atomic_mass    0.003407\n",
       "2    wtd_mean_atomic_mass    0.012673\n",
       "3       gmean_atomic_mass    0.001508\n",
       "4   wtd_gmean_atomic_mass    0.002014\n",
       "..                    ...         ...\n",
       "76    wtd_entropy_Valence    0.002815\n",
       "77          range_Valence    0.000380\n",
       "78      wtd_range_Valence    0.028092\n",
       "79            std_Valence    0.000625\n",
       "80        wtd_std_Valence    0.007973\n",
       "\n",
       "[81 rows x 2 columns]"
      ]
     },
     "execution_count": 15,
     "metadata": {},
     "output_type": "execute_result"
    }
   ],
   "source": [
    "features=pd.DataFrame(data={'Features':index_1,'importance':importance})\n",
    "features"
   ]
  },
  {
   "cell_type": "code",
   "execution_count": 16,
   "id": "9b1c27af-b7ed-40ae-b2c5-88e1a96e3587",
   "metadata": {},
   "outputs": [],
   "source": [
    "features=features.sort_values(by='importance',ascending=False)"
   ]
  },
  {
   "cell_type": "code",
   "execution_count": 17,
   "id": "c4186c87-32c1-4272-b9f0-89e276850986",
   "metadata": {},
   "outputs": [
    {
     "data": {
      "text/html": [
       "<div>\n",
       "<style scoped>\n",
       "    .dataframe tbody tr th:only-of-type {\n",
       "        vertical-align: middle;\n",
       "    }\n",
       "\n",
       "    .dataframe tbody tr th {\n",
       "        vertical-align: top;\n",
       "    }\n",
       "\n",
       "    .dataframe thead th {\n",
       "        text-align: right;\n",
       "    }\n",
       "</style>\n",
       "<table border=\"1\" class=\"dataframe\">\n",
       "  <thead>\n",
       "    <tr style=\"text-align: right;\">\n",
       "      <th></th>\n",
       "      <th>Features</th>\n",
       "      <th>importance</th>\n",
       "    </tr>\n",
       "  </thead>\n",
       "  <tbody>\n",
       "    <tr>\n",
       "      <th>67</th>\n",
       "      <td>range_ThermalConductivity</td>\n",
       "      <td>0.496504</td>\n",
       "    </tr>\n",
       "    <tr>\n",
       "      <th>64</th>\n",
       "      <td>wtd_gmean_ThermalConductivity</td>\n",
       "      <td>0.106343</td>\n",
       "    </tr>\n",
       "    <tr>\n",
       "      <th>31</th>\n",
       "      <td>mean_Density</td>\n",
       "      <td>0.030617</td>\n",
       "    </tr>\n",
       "    <tr>\n",
       "      <th>78</th>\n",
       "      <td>wtd_range_Valence</td>\n",
       "      <td>0.028092</td>\n",
       "    </tr>\n",
       "    <tr>\n",
       "      <th>35</th>\n",
       "      <td>entropy_Density</td>\n",
       "      <td>0.023792</td>\n",
       "    </tr>\n",
       "    <tr>\n",
       "      <th>...</th>\n",
       "      <td>...</td>\n",
       "      <td>...</td>\n",
       "    </tr>\n",
       "    <tr>\n",
       "      <th>13</th>\n",
       "      <td>gmean_fie</td>\n",
       "      <td>0.000286</td>\n",
       "    </tr>\n",
       "    <tr>\n",
       "      <th>57</th>\n",
       "      <td>range_FusionHeat</td>\n",
       "      <td>0.000277</td>\n",
       "    </tr>\n",
       "    <tr>\n",
       "      <th>27</th>\n",
       "      <td>range_atomic_radius</td>\n",
       "      <td>0.000156</td>\n",
       "    </tr>\n",
       "    <tr>\n",
       "      <th>71</th>\n",
       "      <td>mean_Valence</td>\n",
       "      <td>0.000085</td>\n",
       "    </tr>\n",
       "    <tr>\n",
       "      <th>0</th>\n",
       "      <td>number_of_elements</td>\n",
       "      <td>0.000010</td>\n",
       "    </tr>\n",
       "  </tbody>\n",
       "</table>\n",
       "<p>81 rows × 2 columns</p>\n",
       "</div>"
      ],
      "text/plain": [
       "                         Features  importance\n",
       "67      range_ThermalConductivity    0.496504\n",
       "64  wtd_gmean_ThermalConductivity    0.106343\n",
       "31                   mean_Density    0.030617\n",
       "78              wtd_range_Valence    0.028092\n",
       "35                entropy_Density    0.023792\n",
       "..                            ...         ...\n",
       "13                      gmean_fie    0.000286\n",
       "57               range_FusionHeat    0.000277\n",
       "27            range_atomic_radius    0.000156\n",
       "71                   mean_Valence    0.000085\n",
       "0              number_of_elements    0.000010\n",
       "\n",
       "[81 rows x 2 columns]"
      ]
     },
     "execution_count": 17,
     "metadata": {},
     "output_type": "execute_result"
    }
   ],
   "source": [
    "features"
   ]
  },
  {
   "cell_type": "code",
   "execution_count": 22,
   "id": "fac23cea-5a45-423c-a3db-1a8970dc1548",
   "metadata": {},
   "outputs": [],
   "source": [
    "features['Features'] = features['Features'].str.split('_', 1).str[-1]\n",
    "features['Features'] = features['Features'].str.split('_', 1).str[-1]\n",
    "features['Features'] = features['Features'].str.split('_', 1).str[-1]"
   ]
  },
  {
   "cell_type": "code",
   "execution_count": 23,
   "id": "3cf9632e-92f7-415f-9fdd-44e833c80b75",
   "metadata": {},
   "outputs": [],
   "source": [
    "features=features.drop_duplicates(subset=['Features'], keep='first')"
   ]
  },
  {
   "cell_type": "code",
   "execution_count": 24,
   "id": "1a773685-b2ac-461b-ad4e-6cca5eb003f4",
   "metadata": {},
   "outputs": [],
   "source": [
    "features=features[['Features','importance']]"
   ]
  },
  {
   "cell_type": "code",
   "execution_count": 25,
   "id": "b17cc17a-f45d-4138-91b1-3fbde1f7cb4c",
   "metadata": {},
   "outputs": [
    {
     "data": {
      "text/html": [
       "<div>\n",
       "<style scoped>\n",
       "    .dataframe tbody tr th:only-of-type {\n",
       "        vertical-align: middle;\n",
       "    }\n",
       "\n",
       "    .dataframe tbody tr th {\n",
       "        vertical-align: top;\n",
       "    }\n",
       "\n",
       "    .dataframe thead th {\n",
       "        text-align: right;\n",
       "    }\n",
       "</style>\n",
       "<table border=\"1\" class=\"dataframe\">\n",
       "  <thead>\n",
       "    <tr style=\"text-align: right;\">\n",
       "      <th></th>\n",
       "      <th>Features</th>\n",
       "      <th>importance</th>\n",
       "    </tr>\n",
       "  </thead>\n",
       "  <tbody>\n",
       "    <tr>\n",
       "      <th>67</th>\n",
       "      <td>ThermalConductivity</td>\n",
       "      <td>0.496504</td>\n",
       "    </tr>\n",
       "    <tr>\n",
       "      <th>31</th>\n",
       "      <td>Density</td>\n",
       "      <td>0.030617</td>\n",
       "    </tr>\n",
       "    <tr>\n",
       "      <th>78</th>\n",
       "      <td>Valence</td>\n",
       "      <td>0.028092</td>\n",
       "    </tr>\n",
       "    <tr>\n",
       "      <th>47</th>\n",
       "      <td>ElectronAffinity</td>\n",
       "      <td>0.015470</td>\n",
       "    </tr>\n",
       "    <tr>\n",
       "      <th>12</th>\n",
       "      <td>fie</td>\n",
       "      <td>0.015066</td>\n",
       "    </tr>\n",
       "    <tr>\n",
       "      <th>56</th>\n",
       "      <td>FusionHeat</td>\n",
       "      <td>0.014199</td>\n",
       "    </tr>\n",
       "    <tr>\n",
       "      <th>2</th>\n",
       "      <td>mass</td>\n",
       "      <td>0.012673</td>\n",
       "    </tr>\n",
       "    <tr>\n",
       "      <th>30</th>\n",
       "      <td>radius</td>\n",
       "      <td>0.008696</td>\n",
       "    </tr>\n",
       "    <tr>\n",
       "      <th>0</th>\n",
       "      <td>elements</td>\n",
       "      <td>0.000010</td>\n",
       "    </tr>\n",
       "  </tbody>\n",
       "</table>\n",
       "</div>"
      ],
      "text/plain": [
       "               Features  importance\n",
       "67  ThermalConductivity    0.496504\n",
       "31              Density    0.030617\n",
       "78              Valence    0.028092\n",
       "47     ElectronAffinity    0.015470\n",
       "12                  fie    0.015066\n",
       "56           FusionHeat    0.014199\n",
       "2                  mass    0.012673\n",
       "30               radius    0.008696\n",
       "0              elements    0.000010"
      ]
     },
     "execution_count": 25,
     "metadata": {},
     "output_type": "execute_result"
    }
   ],
   "source": [
    "features"
   ]
  },
  {
   "cell_type": "code",
   "execution_count": 26,
   "id": "9ceb76fd-abb5-4107-8856-56a84872be3e",
   "metadata": {},
   "outputs": [
    {
     "data": {
      "image/png": "[encoded data removed]",
      "text/plain": [
       "<Figure size 1440x720 with 2 Axes>"
      ]
     },
     "metadata": {},
     "output_type": "display_data"
    }
   ],
   "source": [
    "import pandas as pd\n",
    "import matplotlib.pyplot as plt\n",
    "from matplotlib.ticker import PercentFormatter\n",
    "\n",
    "\n",
    "features[\"cumpercentage\"] = features[\"importance\"].cumsum()/features[\"importance\"].sum()*100\n",
    "\n",
    "\n",
    "fig, ax = plt.subplots(figsize=(20, 10))\n",
    "ax.bar(features['Features'], features[\"importance\"], color=\"C0\")\n",
    "ax2 = ax.twinx()\n",
    "ax2.plot(features['Features'], features[\"cumpercentage\"], color=\"C1\", marker=\"D\", ms=7)\n",
    "ax2.yaxis.set_major_formatter(PercentFormatter())\n",
    "\n",
    "ax.tick_params(axis=\"y\", colors=\"C0\")\n",
    "ax2.tick_params(axis=\"y\", colors=\"C1\")\n",
    "plt.show()"
   ]
  },
  {
   "cell_type": "markdown",
   "id": "2c51aa7b-33fd-4150-9104-da908f7eb2e5",
   "metadata": {},
   "source": [
    "## Division of low temperature superconductor based on distribution"
   ]
  },
  {
   "cell_type": "markdown",
   "id": "853cf407-19b5-4140-9dc2-a49ac83236e9",
   "metadata": {},
   "source": [
    "## Superconductor below 20K critical temperature"
   ]
  },
  {
   "cell_type": "code",
   "execution_count": 27,
   "id": "75e2d37f-a218-438f-8cd5-3929d1cbc748",
   "metadata": {},
   "outputs": [],
   "source": [
    "low_temperature_ultra=low_temperature[low_temperature['critical_temp'] <= 20]\n",
    "y=low_temperature_ultra['critical_temp']\n",
    "index_1=low_temperature_ultra.columns.tolist()[0:-1]\n",
    "X=low_temperature_ultra[index_1]\n",
    "# decision tree for feature importance on a regression problem\n",
    "from sklearn.datasets import make_regression\n",
    "from sklearn.tree import DecisionTreeRegressor\n",
    "from matplotlib import pyplot\n",
    "# define dataset\n",
    "#X, y = make_regression(n_samples=1000, n_features=10, n_informative=5, random_state=1)\n",
    "# define the model\n",
    "model = DecisionTreeRegressor()\n",
    "# fit the model\n",
    "model.fit(X, y)\n",
    "# get importance\n",
    "importance = model.feature_importances_\n"
   ]
  },
  {
   "cell_type": "code",
   "execution_count": 96,
   "id": "3ea3582c-3a4e-4ad4-8297-8b31dcac080e",
   "metadata": {},
   "outputs": [
    {
     "data": {
      "text/plain": [
       "array([3.23989950e-05, 1.63267391e-03, 6.12280603e-02, 2.39126506e-03,\n",
       "       1.25073972e-02, 9.65010954e-03, 5.84358226e-03, 1.25672262e-03,\n",
       "       1.21010315e-02, 3.10117525e-03, 6.00860835e-03, 1.13114178e-02,\n",
       "       1.25257177e-02, 2.30286654e-03, 6.37055629e-03, 7.64012942e-03,\n",
       "       4.84673851e-03, 1.74398407e-01, 5.03910380e-03, 7.84683795e-03,\n",
       "       1.10547352e-02, 3.58289890e-03, 1.98807309e-02, 1.69131890e-03,\n",
       "       1.40397084e-02, 8.93140797e-03, 7.19808682e-03, 2.49599995e-03,\n",
       "       4.41810333e-02, 8.90667974e-03, 1.10961451e-02, 6.42690603e-04,\n",
       "       5.42945413e-03, 4.01077595e-03, 4.39843624e-03, 3.46169426e-04,\n",
       "       4.67967925e-03, 7.91107621e-04, 6.69608998e-03, 1.90960533e-03,\n",
       "       1.26434514e-02, 1.80278656e-03, 5.33307377e-03, 2.92651551e-03,\n",
       "       2.95750218e-02, 5.45719894e-03, 6.62134809e-03, 5.77004868e-04,\n",
       "       9.10511364e-03, 2.16223404e-03, 1.18963065e-02, 9.12728283e-03,\n",
       "       8.31551467e-03, 3.66413205e-03, 4.64072837e-02, 4.98016144e-03,\n",
       "       4.40494862e-03, 1.29422289e-03, 9.77735500e-03, 4.00723152e-03,\n",
       "       3.06006784e-02, 4.59415463e-03, 7.59714435e-03, 2.72662155e-03,\n",
       "       1.23553078e-02, 1.66015416e-02, 7.10508606e-03, 6.11729126e-02,\n",
       "       4.22175964e-03, 1.40737862e-03, 1.15775928e-02, 4.79606228e-04,\n",
       "       1.07178807e-01, 9.27017326e-04, 8.18379882e-03, 8.86205080e-03,\n",
       "       7.86925689e-03, 6.45353175e-04, 9.97761193e-03, 2.11731635e-03,\n",
       "       3.72326197e-03])"
      ]
     },
     "execution_count": 96,
     "metadata": {},
     "output_type": "execute_result"
    }
   ],
   "source": [
    "importance"
   ]
  },
  {
   "cell_type": "code",
   "execution_count": 28,
   "id": "d00e31f4-f03d-40ab-91f9-95edc2b17557",
   "metadata": {},
   "outputs": [
    {
     "data": {
      "image/png": "[encoded data removed]",
      "text/plain": [
       "<Figure size 1440x720 with 2 Axes>"
      ]
     },
     "metadata": {},
     "output_type": "display_data"
    }
   ],
   "source": [
    "\n",
    "features=pd.DataFrame(data={'Features':index_1,'importance':importance})\n",
    "features=features.sort_values(by='importance',ascending=False)\n",
    "features['Features'] = features['Features'].str.split('_', 1).str[-1]\n",
    "features['Features'] = features['Features'].str.split('_', 1).str[-1]\n",
    "features['Features'] = features['Features'].str.split('_', 1).str[-1]\n",
    "features=features.drop_duplicates(subset=['Features'], keep='first')\n",
    "features=features[['Features','importance']]\n",
    "features[\"cumpercentage\"] = features[\"importance\"].cumsum()/features[\"importance\"].sum()*100\n",
    "\n",
    "fig, ax = plt.subplots(figsize=(20, 10))\n",
    "ax.bar(features['Features'], features[\"importance\"], color=\"C0\")\n",
    "ax2 = ax.twinx()\n",
    "ax2.plot(features['Features'], features[\"cumpercentage\"], color=\"C1\", marker=\"D\", ms=7)\n",
    "ax2.yaxis.set_major_formatter(PercentFormatter())\n",
    "\n",
    "ax.tick_params(axis=\"y\", colors=\"C0\")\n",
    "ax2.tick_params(axis=\"y\", colors=\"C1\")\n",
    "plt.show()"
   ]
  },
  {
   "cell_type": "markdown",
   "id": "f2944eae-9d6f-4262-96bb-6e2fcc6f6c9e",
   "metadata": {},
   "source": [
    "## For superconductor with critical temperature above 20K"
   ]
  },
  {
   "cell_type": "code",
   "execution_count": 29,
   "id": "f6186067-081a-42b3-96ae-af3e09f8c622",
   "metadata": {},
   "outputs": [],
   "source": [
    "low_temperature_2=low_temperature[low_temperature['critical_temp'] > 20]\n",
    "y=low_temperature_2['critical_temp']\n",
    "index_1=low_temperature_2.columns.tolist()[0:-1]\n",
    "X=low_temperature_2[index_1]\n",
    "# decision tree for feature importance on a regression problem\n",
    "from sklearn.datasets import make_regression\n",
    "from sklearn.tree import DecisionTreeRegressor\n",
    "from matplotlib import pyplot\n",
    "# define dataset\n",
    "#X, y = make_regression(n_samples=1000, n_features=10, n_informative=5, random_state=1)\n",
    "# define the model\n",
    "model = DecisionTreeRegressor()\n",
    "# fit the model\n",
    "model.fit(X, y)\n",
    "# get importance\n",
    "importance = model.feature_importances_\n"
   ]
  },
  {
   "cell_type": "code",
   "execution_count": 30,
   "id": "26c1504f-1234-4341-b419-a100176895cb",
   "metadata": {},
   "outputs": [
    {
     "data": {
      "image/png": "[encoded data removed]",
      "text/plain": [
       "<Figure size 1440x720 with 2 Axes>"
      ]
     },
     "metadata": {},
     "output_type": "display_data"
    }
   ],
   "source": [
    "\n",
    "features=pd.DataFrame(data={'Features':index_1,'importance':importance})\n",
    "features=features.sort_values(by='importance',ascending=False)\n",
    "features['Features'] = features['Features'].str.split('_', 1).str[-1]\n",
    "features['Features'] = features['Features'].str.split('_', 1).str[-1]\n",
    "features['Features'] = features['Features'].str.split('_', 1).str[-1]\n",
    "\n",
    "features=features.drop_duplicates(subset=['Features'], keep='first')\n",
    "features=features[['Features','importance']]\n",
    "features[\"cumpercentage\"] = features[\"importance\"].cumsum()/features[\"importance\"].sum()*100\n",
    "\n",
    "fig, ax = plt.subplots(figsize=(20, 10))\n",
    "ax.bar(features['Features'], features[\"importance\"], color=\"C0\")\n",
    "ax2 = ax.twinx()\n",
    "ax2.plot(features['Features'], features[\"cumpercentage\"], color=\"C1\", marker=\"D\", ms=7)\n",
    "ax2.yaxis.set_major_formatter(PercentFormatter())\n",
    "\n",
    "ax.tick_params(axis=\"y\", colors=\"C0\")\n",
    "ax2.tick_params(axis=\"y\", colors=\"C1\")\n",
    "plt.show()"
   ]
  },
  {
   "cell_type": "code",
   "execution_count": null,
   "id": "354dc014-0dc8-46f6-afbd-5252f969493c",
   "metadata": {},
   "outputs": [],
   "source": []
  },
  {
   "cell_type": "code",
   "execution_count": null,
   "id": "725506b9-cfab-45a6-9577-2ee7f39e6b5d",
   "metadata": {},
   "outputs": [],
   "source": []
  },
  {
   "cell_type": "code",
   "execution_count": null,
   "id": "c2b34eb3-078c-4f00-9d53-975e6a64a7a6",
   "metadata": {},
   "outputs": [],
   "source": []
  },
  {
   "cell_type": "markdown",
   "id": "c4dc0d84-d3ab-4dd0-a439-1ea2d8c860e3",
   "metadata": {},
   "source": [
    "# Prediction"
   ]
  },
  {
   "cell_type": "code",
   "execution_count": 4,
   "id": "f5b440de-b905-404a-b212-21935ac842bb",
   "metadata": {},
   "outputs": [],
   "source": [
    "import pandas as pd\n",
    "from sklearn.ensemble import RandomForestRegressor\n",
    "from sklearn.model_selection import train_test_split\n",
    "from sklearn.metrics import mean_squared_error,mean_absolute_percentage_error"
   ]
  },
  {
   "cell_type": "code",
   "execution_count": 5,
   "id": "4cefa143-fb1a-4a8a-8134-37f58901ca5a",
   "metadata": {},
   "outputs": [],
   "source": [
    "from sklearn.preprocessing import StandardScaler\n"
   ]
  },
  {
   "cell_type": "code",
   "execution_count": 6,
   "id": "16e002c1-c63e-44e3-b168-ac18b82bf28f",
   "metadata": {},
   "outputs": [],
   "source": [
    "file = pd.read_csv('train.csv')\n",
    "y=file['critical_temp']\n",
    "x= file.drop(['critical_temp'],axis=1)\n",
    "X_train, X_test, y_train, y_test = train_test_split(x, y, test_size=0.05, random_state=42)"
   ]
  },
  {
   "cell_type": "code",
   "execution_count": 11,
   "id": "716e7597-a0bd-428f-a6e3-d913ef2c7bdc",
   "metadata": {},
   "outputs": [],
   "source": [
    "sc_X = StandardScaler()\n",
    "sc_y = StandardScaler()\n",
    "X_train = sc_X.fit_transform(X_train)\n",
    "X_test= sc_X.fit_transform(X_test)\n",
    "y_train = sc_y.fit_transform(np.array(y_train).reshape(-1, 1))\n",
    "y_test = sc_y.fit_transform(np.array(y_test).reshape(-1, 1))"
   ]
  },
  {
   "cell_type": "code",
   "execution_count": 13,
   "id": "4f2bf39b-bca6-467b-a090-aecf47ac349f",
   "metadata": {},
   "outputs": [
    {
     "name": "stderr",
     "output_type": "stream",
     "text": [
      "C:\\Users\\Hamzah\\anaconda3\\lib\\site-packages\\sklearn\\utils\\validation.py:985: DataConversionWarning: A column-vector y was passed when a 1d array was expected. Please change the shape of y to (n_samples, ), for example using ravel().\n",
      "  y = column_or_1d(y, warn=True)\n"
     ]
    },
    {
     "data": {
      "text/plain": [
       "SVR()"
      ]
     },
     "execution_count": 13,
     "metadata": {},
     "output_type": "execute_result"
    }
   ],
   "source": [
    "from sklearn.svm import SVR\n",
    "regressor = SVR(kernel = 'rbf')\n",
    "regressor.fit(X_train, y_train)"
   ]
  },
  {
   "cell_type": "code",
   "execution_count": 15,
   "id": "54894562-fffc-4a73-8e74-4162753a51f3",
   "metadata": {},
   "outputs": [
    {
     "data": {
      "text/plain": [
       "(1064, 1)"
      ]
     },
     "execution_count": 15,
     "metadata": {},
     "output_type": "execute_result"
    }
   ],
   "source": [
    "y_test.shape"
   ]
  },
  {
   "cell_type": "code",
   "execution_count": 16,
   "id": "fd8014aa-11e3-4ea1-ac63-1a484f83a9e3",
   "metadata": {},
   "outputs": [],
   "source": [
    "y_pred = regressor.predict(X_test) "
   ]
  },
  {
   "cell_type": "code",
   "execution_count": 17,
   "id": "400862a4-530c-4488-a890-033873f4d283",
   "metadata": {},
   "outputs": [],
   "source": [
    "from sklearn.metrics import mean_squared_error\n",
    "error=mean_squared_error(y_test, y_pred)"
   ]
  },
  {
   "cell_type": "code",
   "execution_count": 18,
   "id": "0b10a0f6-005d-4d5a-ab17-18f384edd26b",
   "metadata": {},
   "outputs": [
    {
     "data": {
      "text/plain": [
       "0.1672717204725213"
      ]
     },
     "execution_count": 18,
     "metadata": {},
     "output_type": "execute_result"
    }
   ],
   "source": [
    "error"
   ]
  },
  {
   "cell_type": "code",
   "execution_count": 33,
   "id": "a7b4031a-ba2e-440c-ae98-041ad87bbb89",
   "metadata": {},
   "outputs": [],
   "source": [
    "regressor = RandomForestRegressor(n_estimators = 1000, random_state = 0)"
   ]
  },
  {
   "cell_type": "code",
   "execution_count": 34,
   "id": "67f0f502-6024-4a71-af69-847633d0c78c",
   "metadata": {},
   "outputs": [
    {
     "data": {
      "text/plain": [
       "RandomForestRegressor(n_estimators=1000, random_state=0)"
      ]
     },
     "execution_count": 34,
     "metadata": {},
     "output_type": "execute_result"
    }
   ],
   "source": [
    "regressor.fit(X_train, y_train)  \n"
   ]
  },
  {
   "cell_type": "code",
   "execution_count": 35,
   "id": "d77bec08-1670-4a8b-9296-5949ed74e8f6",
   "metadata": {},
   "outputs": [],
   "source": [
    "Y_pred = regressor.predict(X_test) "
   ]
  },
  {
   "cell_type": "code",
   "execution_count": 36,
   "id": "38dcf2c5-db96-4cf9-9e0a-9af0b3385144",
   "metadata": {},
   "outputs": [],
   "source": [
    "error=mean_absolute_percentage_error(y_test, Y_pred)"
   ]
  },
  {
   "cell_type": "code",
   "execution_count": 39,
   "id": "d9f074fc-5ad0-48c9-a1c4-ef78e0dfbb74",
   "metadata": {},
   "outputs": [
    {
     "data": {
      "text/plain": [
       "1.492219609990375"
      ]
     },
     "execution_count": 39,
     "metadata": {},
     "output_type": "execute_result"
    }
   ],
   "source": [
    "error"
   ]
  }
 ],
 "metadata": {
  "kernelspec": {
   "display_name": "Python 3",
   "language": "python",
   "name": "python3"
  },
  "language_info": {
   "codemirror_mode": {
    "name": "ipython",
    "version": 3
   },
   "file_extension": ".py",
   "mimetype": "text/x-python",
   "name": "python",
   "nbconvert_exporter": "python",
   "pygments_lexer": "ipython3",
   "version": "3.8.8"
  }
 },
 "nbformat": 4,
 "nbformat_minor": 5
}
