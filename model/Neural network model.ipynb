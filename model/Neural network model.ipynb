{
 "cells": [
  {
   "cell_type": "code",
   "execution_count": 1,
   "id": "44c2ee2e-a77a-4339-9874-8e022466b478",
   "metadata": {},
   "outputs": [],
   "source": [
    "import pandas as pd\n",
    "import numpy as np\n",
    "from sklearn.ensemble import RandomForestRegressor\n",
    "from sklearn.model_selection import train_test_split\n",
    "from sklearn.metrics import mean_squared_error,mean_absolute_percentage_error"
   ]
  },
  {
   "cell_type": "code",
   "execution_count": 2,
   "id": "709bc68b-3aa6-4c72-83c0-dfbb7639fb02",
   "metadata": {},
   "outputs": [],
   "source": [
    "file = pd.read_csv('train2.csv')"
   ]
  },
  {
   "cell_type": "code",
   "execution_count": 3,
   "id": "e9882eb3-56df-4e18-b6d9-936f58280329",
   "metadata": {},
   "outputs": [],
   "source": [
    "y=file['critical_temp']\n",
    "x= file.drop(['critical_temp'],axis=1)"
   ]
  },
  {
   "cell_type": "code",
   "execution_count": 4,
   "id": "c098c20e-2054-4db3-9330-4b885c9f1736",
   "metadata": {},
   "outputs": [],
   "source": [
    "X_train, X_test, y_train, y_test = train_test_split(x, y, test_size=0.05, random_state=42)"
   ]
  },
  {
   "cell_type": "code",
   "execution_count": 5,
   "id": "b5db5b44-8dd9-4dca-904e-f937a1c51c7d",
   "metadata": {},
   "outputs": [],
   "source": [
    "import matplotlib.pyplot as plt\n",
    "import numpy as np\n",
    "import pandas as pd\n",
    "import seaborn as sns\n",
    "import tensorflow as tf\n",
    "\n",
    "from tensorflow import keras\n",
    "from tensorflow.keras import layers\n",
    "from tensorflow.keras.layers import Input, Dense, Activation,Dropout\n",
    "from tensorflow.keras.models import Model\n"
   ]
  },
  {
   "cell_type": "code",
   "execution_count": 6,
   "id": "918f3cfc-2b4d-4ffa-88f7-cf6640c8fb4b",
   "metadata": {},
   "outputs": [],
   "source": [
    "from sklearn.preprocessing import StandardScaler\n",
    "\n",
    "sc = StandardScaler()\n",
    "X_train = sc.fit_transform(X_train)\n",
    "X_test = sc.transform(X_test)\n",
    "sc_y = StandardScaler()\n",
    "y_train= sc_y.fit_transform(np.asarray(y_train).reshape(-1, 1))\n"
   ]
  },
  {
   "cell_type": "code",
   "execution_count": 7,
   "id": "c8faad7d-f15b-43d8-beff-2edd25455848",
   "metadata": {},
   "outputs": [
    {
     "data": {
      "text/plain": [
       "(14764, 81)"
      ]
     },
     "execution_count": 7,
     "metadata": {},
     "output_type": "execute_result"
    }
   ],
   "source": [
    "X_train.shape"
   ]
  },
  {
   "cell_type": "code",
   "execution_count": null,
   "id": "81ce8c79-5808-4b56-8001-bf7323345422",
   "metadata": {},
   "outputs": [],
   "source": []
  },
  {
   "cell_type": "code",
   "execution_count": 8,
   "id": "88ce6ea7-566f-4f05-b1ce-a7d1c2144e26",
   "metadata": {},
   "outputs": [],
   "source": [
    "from keras import models, layers\n",
    "import datetime\n",
    "model = models.Sequential()\n",
    "model.add(layers.Dense(8, activation='relu', input_shape=[X_train.shape[1]]))\n",
    "model.add(layers.Dense(16, activation='relu'))\n",
    "\n",
    "# output layer\n",
    "model.add(layers.Dense(1))\n",
    "model.compile(optimizer='rmsprop', loss='mae', metrics=['mae'])\n",
    "\n",
    "log_dir = \"logs/fit/\" + datetime.datetime.now().strftime(\"%Y%m%d-%H%M%S\")\n",
    "tensorboard_callback = tf.keras.callbacks.TensorBoard(log_dir=log_dir, histogram_freq=1)"
   ]
  },
  {
   "cell_type": "code",
   "execution_count": 9,
   "id": "071b17b3-699a-45a3-8556-dba0e392e92f",
   "metadata": {},
   "outputs": [],
   "source": [
    "from keras import models, layers\n",
    "import datetime\n",
    "model = models.Sequential()\n",
    "model.add(layers.Dense(64, activation='relu', input_shape=[X_train.shape[1]]))\n",
    "model.add(layers.Dense(32, activation='relu'))\n",
    "\n",
    "# output layer\n",
    "model.add(layers.Dense(1))\n",
    "model.compile(optimizer='adam', loss='mae', metrics=['mae'])\n",
    "\n",
    "log_dir = \"logs/fit/\" + datetime.datetime.now().strftime(\"%Y%m%d-%H%M%S\")\n",
    "tensorboard_callback = tf.keras.callbacks.TensorBoard(log_dir=log_dir, histogram_freq=1)"
   ]
  },
  {
   "cell_type": "code",
   "execution_count": 10,
   "id": "6355bc86-a4ee-4f4a-9891-21ab07a404a2",
   "metadata": {},
   "outputs": [
    {
     "name": "stdout",
     "output_type": "stream",
     "text": [
      "Model: \"sequential_1\"\n",
      "_________________________________________________________________\n",
      "Layer (type)                 Output Shape              Param #   \n",
      "=================================================================\n",
      "dense_3 (Dense)              (None, 64)                5248      \n",
      "_________________________________________________________________\n",
      "dense_4 (Dense)              (None, 32)                2080      \n",
      "_________________________________________________________________\n",
      "dense_5 (Dense)              (None, 1)                 33        \n",
      "=================================================================\n",
      "Total params: 7,361\n",
      "Trainable params: 7,361\n",
      "Non-trainable params: 0\n",
      "_________________________________________________________________\n",
      "None\n"
     ]
    }
   ],
   "source": [
    "print(model.summary())"
   ]
  },
  {
   "cell_type": "code",
   "execution_count": 12,
   "id": "d089caff-7b3e-44b0-8186-2ab35f896b04",
   "metadata": {},
   "outputs": [
    {
     "name": "stdout",
     "output_type": "stream",
     "text": [
      "Epoch 1/50\n",
      "370/370 [==============================] - 1s 3ms/step - loss: 0.1863 - mae: 0.1863 - val_loss: 0.2177 - val_mae: 0.2177\n",
      "Epoch 2/50\n",
      "370/370 [==============================] - 1s 3ms/step - loss: 0.1865 - mae: 0.1865 - val_loss: 0.2125 - val_mae: 0.2125\n",
      "Epoch 3/50\n",
      "370/370 [==============================] - 1s 2ms/step - loss: 0.1871 - mae: 0.1871 - val_loss: 0.2082 - val_mae: 0.2082\n",
      "Epoch 4/50\n",
      "370/370 [==============================] - 1s 2ms/step - loss: 0.1880 - mae: 0.1880 - val_loss: 0.2092 - val_mae: 0.2092\n",
      "Epoch 5/50\n",
      "370/370 [==============================] - 1s 2ms/step - loss: 0.1866 - mae: 0.1866 - val_loss: 0.2071 - val_mae: 0.2071\n",
      "Epoch 6/50\n",
      "370/370 [==============================] - 1s 2ms/step - loss: 0.1867 - mae: 0.1867 - val_loss: 0.2201 - val_mae: 0.2201\n",
      "Epoch 7/50\n",
      "370/370 [==============================] - 1s 2ms/step - loss: 0.1861 - mae: 0.1861 - val_loss: 0.2080 - val_mae: 0.2080\n",
      "Epoch 8/50\n",
      "370/370 [==============================] - 1s 2ms/step - loss: 0.1884 - mae: 0.1884 - val_loss: 0.2073 - val_mae: 0.2073\n",
      "Epoch 9/50\n",
      "370/370 [==============================] - 1s 2ms/step - loss: 0.1875 - mae: 0.1875 - val_loss: 0.2069 - val_mae: 0.2069\n",
      "Epoch 10/50\n",
      "370/370 [==============================] - 1s 2ms/step - loss: 0.1843 - mae: 0.1843 - val_loss: 0.2056 - val_mae: 0.2056\n",
      "Epoch 11/50\n",
      "370/370 [==============================] - 1s 2ms/step - loss: 0.1846 - mae: 0.1846 - val_loss: 0.2041 - val_mae: 0.2041\n",
      "Epoch 12/50\n",
      "370/370 [==============================] - 1s 2ms/step - loss: 0.1848 - mae: 0.1848 - val_loss: 0.2046 - val_mae: 0.2046\n",
      "Epoch 13/50\n",
      "370/370 [==============================] - 1s 2ms/step - loss: 0.1830 - mae: 0.1830 - val_loss: 0.2091 - val_mae: 0.2091\n",
      "Epoch 14/50\n",
      "370/370 [==============================] - 1s 2ms/step - loss: 0.1842 - mae: 0.1842 - val_loss: 0.2089 - val_mae: 0.2089\n",
      "Epoch 15/50\n",
      "370/370 [==============================] - 1s 2ms/step - loss: 0.1849 - mae: 0.1849 - val_loss: 0.2104 - val_mae: 0.2104\n",
      "Epoch 16/50\n",
      "370/370 [==============================] - 1s 2ms/step - loss: 0.1844 - mae: 0.1844 - val_loss: 0.2059 - val_mae: 0.2059\n",
      "Epoch 17/50\n",
      "370/370 [==============================] - 1s 2ms/step - loss: 0.1834 - mae: 0.1834 - val_loss: 0.2070 - val_mae: 0.2070\n",
      "Epoch 18/50\n",
      "370/370 [==============================] - 1s 2ms/step - loss: 0.1853 - mae: 0.1853 - val_loss: 0.2069 - val_mae: 0.2069\n",
      "Epoch 19/50\n",
      "370/370 [==============================] - 1s 2ms/step - loss: 0.1844 - mae: 0.1844 - val_loss: 0.2142 - val_mae: 0.2142\n",
      "Epoch 20/50\n",
      "370/370 [==============================] - 1s 2ms/step - loss: 0.1811 - mae: 0.1811 - val_loss: 0.2050 - val_mae: 0.2050\n",
      "Epoch 21/50\n",
      "370/370 [==============================] - 1s 2ms/step - loss: 0.1821 - mae: 0.1821 - val_loss: 0.2071 - val_mae: 0.2071\n",
      "Epoch 22/50\n",
      "370/370 [==============================] - 1s 2ms/step - loss: 0.1840 - mae: 0.1840 - val_loss: 0.2129 - val_mae: 0.2129\n",
      "Epoch 23/50\n",
      "370/370 [==============================] - 1s 2ms/step - loss: 0.1839 - mae: 0.1839 - val_loss: 0.2073 - val_mae: 0.2073\n",
      "Epoch 24/50\n",
      "370/370 [==============================] - 1s 2ms/step - loss: 0.1834 - mae: 0.1834 - val_loss: 0.2075 - val_mae: 0.2075\n",
      "Epoch 25/50\n",
      "370/370 [==============================] - 1s 2ms/step - loss: 0.1825 - mae: 0.1825 - val_loss: 0.2065 - val_mae: 0.2065\n",
      "Epoch 26/50\n",
      "370/370 [==============================] - 1s 2ms/step - loss: 0.1830 - mae: 0.1830 - val_loss: 0.2108 - val_mae: 0.2108\n",
      "Epoch 27/50\n",
      "370/370 [==============================] - 1s 2ms/step - loss: 0.1817 - mae: 0.1817 - val_loss: 0.2055 - val_mae: 0.2055\n",
      "Epoch 28/50\n",
      "370/370 [==============================] - 1s 2ms/step - loss: 0.1820 - mae: 0.1820 - val_loss: 0.2102 - val_mae: 0.2102\n",
      "Epoch 29/50\n",
      "370/370 [==============================] - 1s 2ms/step - loss: 0.1808 - mae: 0.1808 - val_loss: 0.2034 - val_mae: 0.2034\n",
      "Epoch 30/50\n",
      "370/370 [==============================] - 1s 2ms/step - loss: 0.1816 - mae: 0.1816 - val_loss: 0.2108 - val_mae: 0.2108\n",
      "Epoch 31/50\n",
      "370/370 [==============================] - 1s 2ms/step - loss: 0.1821 - mae: 0.1821 - val_loss: 0.2091 - val_mae: 0.2091\n",
      "Epoch 32/50\n",
      "370/370 [==============================] - 1s 2ms/step - loss: 0.1794 - mae: 0.1794 - val_loss: 0.2000 - val_mae: 0.2000\n",
      "Epoch 33/50\n",
      "370/370 [==============================] - 1s 2ms/step - loss: 0.1800 - mae: 0.1800 - val_loss: 0.2069 - val_mae: 0.2069\n",
      "Epoch 34/50\n",
      "370/370 [==============================] - 1s 2ms/step - loss: 0.1788 - mae: 0.1788 - val_loss: 0.2012 - val_mae: 0.2012\n",
      "Epoch 35/50\n",
      "370/370 [==============================] - 1s 2ms/step - loss: 0.1803 - mae: 0.1803 - val_loss: 0.2041 - val_mae: 0.2041\n",
      "Epoch 36/50\n",
      "370/370 [==============================] - 1s 2ms/step - loss: 0.1804 - mae: 0.1804 - val_loss: 0.2116 - val_mae: 0.2116\n",
      "Epoch 37/50\n",
      "370/370 [==============================] - 1s 2ms/step - loss: 0.1814 - mae: 0.1814 - val_loss: 0.2140 - val_mae: 0.2140\n",
      "Epoch 38/50\n",
      "370/370 [==============================] - 1s 2ms/step - loss: 0.1817 - mae: 0.1817 - val_loss: 0.2016 - val_mae: 0.2016\n",
      "Epoch 39/50\n",
      "370/370 [==============================] - 1s 2ms/step - loss: 0.1800 - mae: 0.1800 - val_loss: 0.2094 - val_mae: 0.2094\n",
      "Epoch 40/50\n",
      "370/370 [==============================] - 1s 2ms/step - loss: 0.1793 - mae: 0.1793 - val_loss: 0.2115 - val_mae: 0.2115\n",
      "Epoch 41/50\n",
      "370/370 [==============================] - 1s 2ms/step - loss: 0.1793 - mae: 0.1793 - val_loss: 0.2070 - val_mae: 0.2070\n",
      "Epoch 42/50\n",
      "370/370 [==============================] - 1s 2ms/step - loss: 0.1775 - mae: 0.1775 - val_loss: 0.2099 - val_mae: 0.2099\n",
      "Epoch 43/50\n",
      "370/370 [==============================] - 1s 2ms/step - loss: 0.1782 - mae: 0.1782 - val_loss: 0.2145 - val_mae: 0.2145\n",
      "Epoch 44/50\n",
      "370/370 [==============================] - 1s 2ms/step - loss: 0.1785 - mae: 0.1785 - val_loss: 0.2071 - val_mae: 0.2071\n",
      "Epoch 45/50\n",
      "370/370 [==============================] - 1s 2ms/step - loss: 0.1794 - mae: 0.1794 - val_loss: 0.2069 - val_mae: 0.2069\n",
      "Epoch 46/50\n",
      "370/370 [==============================] - 1s 2ms/step - loss: 0.1781 - mae: 0.1781 - val_loss: 0.2050 - val_mae: 0.2050\n",
      "Epoch 47/50\n",
      "370/370 [==============================] - 1s 2ms/step - loss: 0.1782 - mae: 0.1782 - val_loss: 0.2131 - val_mae: 0.2131\n",
      "Epoch 48/50\n",
      "370/370 [==============================] - 1s 2ms/step - loss: 0.1779 - mae: 0.1779 - val_loss: 0.1992 - val_mae: 0.1992\n",
      "Epoch 49/50\n",
      "370/370 [==============================] - 1s 2ms/step - loss: 0.1779 - mae: 0.1779 - val_loss: 0.2026 - val_mae: 0.2026\n",
      "Epoch 50/50\n",
      "370/370 [==============================] - 1s 2ms/step - loss: 0.1769 - mae: 0.1769 - val_loss: 0.2039 - val_mae: 0.2039\n"
     ]
    }
   ],
   "source": [
    "history = model.fit(X_train, y_train, validation_split=0.2, epochs=50,callbacks=[tensorboard_callback])\n"
   ]
  },
  {
   "cell_type": "code",
   "execution_count": 15,
   "id": "6d27da33-23b8-42d2-87f1-21943c35fc30",
   "metadata": {},
   "outputs": [
    {
     "data": {
      "text/plain": [
       "<keras.callbacks.History at 0x23d131a7790>"
      ]
     },
     "execution_count": 15,
     "metadata": {},
     "output_type": "execute_result"
    }
   ],
   "source": [
    "history"
   ]
  },
  {
   "cell_type": "code",
   "execution_count": 19,
   "id": "49a5e421-94f9-44db-95ce-a3404e946e3b",
   "metadata": {},
   "outputs": [],
   "source": [
    "y_pred=model.predict(X_test)"
   ]
  },
  {
   "cell_type": "code",
   "execution_count": 20,
   "id": "7335eff3-1c79-40a6-a03a-40e4ce0e8d45",
   "metadata": {},
   "outputs": [],
   "source": [
    "y_pred1=sc_y.inverse_transform(y_pred)"
   ]
  },
  {
   "cell_type": "code",
   "execution_count": 21,
   "id": "4152d052-b478-4ac6-b18a-0fe45540b9a4",
   "metadata": {},
   "outputs": [
    {
     "name": "stdout",
     "output_type": "stream",
     "text": [
      "RMSE: 10.936227\n"
     ]
    }
   ],
   "source": [
    "\n",
    "rmse = np.sqrt(mean_squared_error(y_test, y_pred1))\n",
    "print(\"RMSE: %f\" % (rmse))"
   ]
  },
  {
   "cell_type": "code",
   "execution_count": 22,
   "id": "29a255fd-39da-48c2-a908-02a26316fca5",
   "metadata": {},
   "outputs": [
    {
     "data": {
      "text/plain": [
       "0.8899442157324123"
      ]
     },
     "execution_count": 22,
     "metadata": {},
     "output_type": "execute_result"
    }
   ],
   "source": [
    "from sklearn.metrics import r2_score\n",
    "\n",
    "coefficient_of_dermination = r2_score(y_test, y_pred1)\n",
    "coefficient_of_dermination"
   ]
  },
  {
   "cell_type": "code",
   "execution_count": 23,
   "id": "a24d3422-9774-44cf-87b6-4c979653901b",
   "metadata": {},
   "outputs": [],
   "source": [
    "y_test=pd.DataFrame(y_test)\n",
    "y_test['Predicted']=y_pred1"
   ]
  },
  {
   "cell_type": "code",
   "execution_count": 24,
   "id": "8ac7521c-6dab-4cf9-ac8d-14a7c4899bc2",
   "metadata": {},
   "outputs": [],
   "source": [
    "y_test.to_excel('nn.xlsx')"
   ]
  },
  {
   "cell_type": "markdown",
   "id": "30102adf-940e-4565-b0c8-92686730a7e1",
   "metadata": {},
   "source": [
    "## Tensor board"
   ]
  },
  {
   "cell_type": "code",
   "execution_count": 52,
   "id": "52840829-ea43-47e3-912a-415c69c8adae",
   "metadata": {},
   "outputs": [
    {
     "name": "stdout",
     "output_type": "stream",
     "text": [
      "The tensorboard extension is already loaded. To reload it, use:\n",
      "  %reload_ext tensorboard\n"
     ]
    }
   ],
   "source": [
    "%load_ext tensorboard\n",
    "import datetime"
   ]
  },
  {
   "cell_type": "code",
   "execution_count": 71,
   "id": "43cf7833-1550-4eed-b0b5-b649e25874b9",
   "metadata": {},
   "outputs": [],
   "source": [
    "from keras import models, layers\n",
    "\n",
    "model = models.Sequential()\n",
    "model.add(layers.Dense(8, activation='relu', input_shape=[X_train.shape[1]]))\n",
    "model.add(layers.Dense(16, activation='relu'))\n",
    "\n",
    "# output layer\n",
    "model.add(layers.Dense(1))\n",
    "model.compile(optimizer='rmsprop', loss='mse', metrics=['mae'])\n",
    "\n",
    "log_dir = \"logs/fit/\" + datetime.datetime.now().strftime(\"%Y%m%d-%H%M%S\")\n",
    "tensorboard_callback = tf.keras.callbacks.TensorBoard(log_dir=log_dir, histogram_freq=1)"
   ]
  },
  {
   "cell_type": "code",
   "execution_count": 45,
   "id": "4a68fcea-ad79-4ed6-858b-24c69be989b1",
   "metadata": {},
   "outputs": [],
   "source": [
    "dict = {'Predicted Critical Temperature':Y_pred , 'Real Crtitical Temperature': y_test} \n",
    "    \n",
    "df = pd.DataFrame(dict)"
   ]
  },
  {
   "cell_type": "code",
   "execution_count": 36,
   "id": "09dbb763-8d3c-4a65-8e09-e32b5d028a90",
   "metadata": {},
   "outputs": [],
   "source": [
    "df.to_excel('nn.xlsx')"
   ]
  },
  {
   "cell_type": "code",
   "execution_count": null,
   "id": "02fcce32-5e64-4620-b28b-284eb5085923",
   "metadata": {},
   "outputs": [],
   "source": []
  },
  {
   "cell_type": "code",
   "execution_count": null,
   "id": "bc408d0d-944b-4003-be9d-bb33a542834a",
   "metadata": {},
   "outputs": [],
   "source": []
  },
  {
   "cell_type": "code",
   "execution_count": 53,
   "id": "d623bf70-fd0a-4eaf-b13d-7321734ab99d",
   "metadata": {},
   "outputs": [
    {
     "data": {
      "text/plain": [
       "Reusing TensorBoard on port 6006 (pid 21124), started 12:28:44 ago. (Use '!kill 21124' to kill it.)"
      ]
     },
     "metadata": {},
     "output_type": "display_data"
    },
    {
     "data": {
      "text/html": [
       "\n",
       "      <iframe id=\"tensorboard-frame-4adddd4de9055910\" width=\"100%\" height=\"800\" frameborder=\"0\">\n",
       "      </iframe>\n",
       "      <script>\n",
       "        (function() {\n",
       "          const frame = document.getElementById(\"tensorboard-frame-4adddd4de9055910\");\n",
       "          const url = new URL(\"/\", window.location);\n",
       "          const port = 6006;\n",
       "          if (port) {\n",
       "            url.port = port;\n",
       "          }\n",
       "          frame.src = url;\n",
       "        })();\n",
       "      </script>\n",
       "    "
      ],
      "text/plain": [
       "<IPython.core.display.HTML object>"
      ]
     },
     "metadata": {},
     "output_type": "display_data"
    }
   ],
   "source": [
    "%tensorboard --logdir logs/fit"
   ]
  },
  {
   "cell_type": "code",
   "execution_count": null,
   "id": "389ab30f-56f0-45e7-a993-f542bc998486",
   "metadata": {},
   "outputs": [],
   "source": []
  },
  {
   "cell_type": "code",
   "execution_count": null,
   "id": "e2dcdf19-460d-4053-b600-f7b1916e5e58",
   "metadata": {},
   "outputs": [],
   "source": []
  },
  {
   "cell_type": "code",
   "execution_count": null,
   "id": "2716abab-84f6-4f80-9216-f854edbcd85b",
   "metadata": {},
   "outputs": [],
   "source": []
  },
  {
   "cell_type": "code",
   "execution_count": 94,
   "id": "f70c66db-3e11-4c6f-8d84-64727db92f21",
   "metadata": {},
   "outputs": [
    {
     "name": "stderr",
     "output_type": "stream",
     "text": [
      "2022-05-10 23:09:59.123282: W tensorflow/stream_executor/platform/default/dso_loader.cc:64] Could not load dynamic library 'cudart64_110.dll'; dlerror: cudart64_110.dll not found\n",
      "2022-05-10 23:09:59.123872: I tensorflow/stream_executor/cuda/cudart_stub.cc:29] Ignore above cudart dlerror if you do not have a GPU set up on your machine.\n"
     ]
    },
    {
     "name": "stdout",
     "output_type": "stream",
     "text": [
      "\n",
      "New experiment created. View your TensorBoard at: https://tensorboard.dev/experiment/koHxtbuzRbmda7myfw7JFg/\n",
      "\n",
      "\u001b[1m[2022-05-10T23:10:05]\u001b[0m Started scanning logdir.\n",
      "\u001b[2K\u001b[32mData upload starting...\u001b[0m\n",
      "\u001b[2K\u001b[32mUploading binary object (50.7 kB)...\u001b[0m\n",
      "\u001b[2K\u001b[32mUploading 600 scalars...\u001b[0m\n",
      "\u001b[2K\u001b[32mUploading 600 tensors (303.2 kB)...\u001b[0m\n",
      "\u001b[1m[2022-05-10T23:10:07]\u001b[0m Total uploaded: 600 scalars, 600 tensors (303.2 kB), 1 binary objects (50.7 kB)\n",
      "\u001b[1m[2022-05-10T23:10:07]\u001b[0m Done scanning logdir.\n",
      "\n",
      "\n",
      "Done. View your TensorBoard at https://tensorboard.dev/experiment/koHxtbuzRbmda7myfw7JFg/\n"
     ]
    }
   ],
   "source": [
    "!tensorboard dev upload \\\n",
    "  --logdir logs/fit \\\n",
    "  --name \"Model Performance\" \\\n",
    "  --description \"Prediction of Critical Temperature of superconductor using Neural Networks\" \\\n",
    "  --one_shot"
   ]
  },
  {
   "cell_type": "code",
   "execution_count": null,
   "id": "2cd3dde5-b670-4a21-8b09-7efe3f20f6f7",
   "metadata": {},
   "outputs": [],
   "source": [
    "tensorboard dev upload --logdir 'logs/fit'"
   ]
  },
  {
   "cell_type": "code",
   "execution_count": null,
   "id": "a5a2011a-e544-479e-be96-16e1d73812ba",
   "metadata": {},
   "outputs": [],
   "source": [
    "tensorboard dev upload --logdir logs/fit --name \"Model Performance\" --description \"Prediction of Critical Temperature of superconductor using Neural Networks\" --one_shot"
   ]
  },
  {
   "cell_type": "code",
   "execution_count": 75,
   "id": "e281bc5d-f111-4eca-afdd-489da7570a64",
   "metadata": {},
   "outputs": [
    {
     "data": {
      "text/plain": [
       "ERROR: Failed to launch TensorBoard (exited with 1).\n",
       "Contents of stderr:\n",
       "2022-05-10 21:50:19.204769: W tensorflow/stream_executor/platform/default/dso_loader.cc:64] Could not load dynamic library 'cudart64_110.dll'; dlerror: cudart64_110.dll not found\n",
       "2022-05-10 21:50:19.206070: I tensorflow/stream_executor/cuda/cudart_stub.cc:29] Ignore above cudart dlerror if you do not have a GPU set up on your machine.\n",
       "\n",
       "***** TensorBoard Uploader *****\n",
       "\n",
       "This will upload your TensorBoard logs to https://tensorboard.dev/ from\n",
       "the following directory:\n",
       "\n",
       "{logdir}\n",
       "\n",
       "This TensorBoard will be visible to everyone. Do not upload sensitive\n",
       "data.\n",
       "\n",
       "Your use of this service is subject to Google's Terms of Service\n",
       "<https://policies.google.com/terms> and Privacy Policy\n",
       "<https://policies.google.com/privacy>, and TensorBoard.dev's Terms of Service\n",
       "<https://tensorboard.dev/policy/terms/>.\n",
       "\n",
       "This notice will not be shown again while you are logged into the uploader.\n",
       "To log out, run `tensorboard dev auth revoke`.\n",
       "\n",
       "Traceback (most recent call last):\n",
       "  File \"C:\\Users\\Hamzah\\anaconda3\\lib\\runpy.py\", line 194, in _run_module_as_main\n",
       "    return _run_code(code, main_globals, None,\n",
       "  File \"C:\\Users\\Hamzah\\anaconda3\\lib\\runpy.py\", line 87, in _run_code\n",
       "    exec(code, run_globals)\n",
       "  File \"C:\\Users\\Hamzah\\anaconda3\\Scripts\\tensorboard.exe\\__main__.py\", line 7, in <module>\n",
       "  File \"C:\\Users\\Hamzah\\anaconda3\\lib\\site-packages\\tensorboard\\main.py\", line 46, in run_main\n",
       "    app.run(tensorboard.main, flags_parser=tensorboard.configure)\n",
       "  File \"C:\\Users\\Hamzah\\AppData\\Roaming\\Python\\Python38\\site-packages\\absl\\app.py\", line 312, in run\n",
       "    _run_main(main, args)\n",
       "  File \"C:\\Users\\Hamzah\\AppData\\Roaming\\Python\\Python38\\site-packages\\absl\\app.py\", line 258, in _run_main\n",
       "    sys.exit(main(argv))\n",
       "  File \"C:\\Users\\Hamzah\\anaconda3\\lib\\site-packages\\tensorboard\\program.py\", line 276, in main\n",
       "    return runner(self.flags) or 0\n",
       "  File \"C:\\Users\\Hamzah\\anaconda3\\lib\\site-packages\\tensorboard\\uploader\\uploader_subcommand.py\", line 692, in run\n",
       "    return _run(flags, self._experiment_url_callback)\n",
       "  File \"C:\\Users\\Hamzah\\anaconda3\\lib\\site-packages\\tensorboard\\uploader\\uploader_subcommand.py\", line 94, in _run\n",
       "    _prompt_for_user_ack(intent)\n",
       "  File \"C:\\Users\\Hamzah\\anaconda3\\lib\\site-packages\\tensorboard\\uploader\\uploader_subcommand.py\", line 67, in _prompt_for_user_ack\n",
       "    response = input(\"Continue? (yes/NO) \")\n",
       "EOFError: EOF when reading a line\n",
       "Contents of stdout:\n",
       "Continue? (yes/NO)"
      ]
     },
     "metadata": {},
     "output_type": "display_data"
    }
   ],
   "source": [
    "tensorboard dev upload --logdir {logdir}"
   ]
  },
  {
   "cell_type": "code",
   "execution_count": null,
   "id": "b24a9ffa-b1bb-45ee-a1ca-11429053bd47",
   "metadata": {},
   "outputs": [],
   "source": []
  },
  {
   "cell_type": "code",
   "execution_count": null,
   "id": "42690110-5ce5-466c-947d-b7196ee170f8",
   "metadata": {},
   "outputs": [],
   "source": [
    "from sklearn.metrics import r2_score\n",
    "\n",
    "coefficient_of_dermination = r2_score(y_test, Y_pred)\n",
    "coefficient_of_dermination"
   ]
  },
  {
   "cell_type": "code",
   "execution_count": null,
   "id": "0a184479-b7f2-4de6-a71e-e4acf6371ce5",
   "metadata": {},
   "outputs": [],
   "source": [
    "from sklearn.metrics import mean_squared_error\n",
    "import math\n",
    "MSE = mean_squared_error(y_test, Y_pred)\n",
    " \n",
    "RMSE = math.sqrt(MSE)"
   ]
  },
  {
   "cell_type": "code",
   "execution_count": null,
   "id": "e56057bf-232a-4740-a627-3d8554580db2",
   "metadata": {},
   "outputs": [],
   "source": [
    "dict = {'Predicted Critical Temperature':Y_pred , 'Real Crtitical Temperature': y_test} \n",
    "    \n",
    "df = pd.DataFrame(dict)"
   ]
  },
  {
   "cell_type": "code",
   "execution_count": null,
   "id": "d2fe9068-d31c-4d0e-8136-a8da529a766f",
   "metadata": {},
   "outputs": [],
   "source": [
    "df.to_excel('rf_result.xlsx')"
   ]
  },
  {
   "cell_type": "code",
   "execution_count": null,
   "id": "24a19f31-7b9a-4900-a4a0-dd8e363f4e01",
   "metadata": {},
   "outputs": [],
   "source": []
  },
  {
   "cell_type": "code",
   "execution_count": null,
   "id": "7c8a0e44-9ce1-46ef-b86e-0d392c6c335c",
   "metadata": {},
   "outputs": [],
   "source": []
  },
  {
   "cell_type": "code",
   "execution_count": 48,
   "id": "73a6365e-c200-4c0b-baee-1e5e3c6ff98c",
   "metadata": {},
   "outputs": [],
   "source": [
    "input_layer = Input(shape=(x.shape[1],))\n",
    "dense_layer_1 = Dense(50, activation='relu')(input_layer)\n",
    "#de=Dropout(0.2)(dense_layer_1)\n",
    "dense_layer_2 = Dense(10, activation='relu')(dense_layer_1)\n",
    "dense_layer_3 = Dense(5, activation='relu')(dense_layer_2)\n",
    "\n",
    "output = Dense(1)(dense_layer_3)\n",
    "\n",
    "model = Model(inputs=input_layer, outputs=output)\n",
    "model.compile(loss=\"mean_squared_error\" , optimizer=\"adam\", metrics=[\"mean_squared_error\"])\n"
   ]
  },
  {
   "cell_type": "code",
   "execution_count": 95,
   "id": "a0e353e1-4db6-46da-a953-25f9ba1eb3f6",
   "metadata": {},
   "outputs": [
    {
     "name": "stdout",
     "output_type": "stream",
     "text": [
      "Model: \"sequential_3\"\n",
      "_________________________________________________________________\n",
      "Layer (type)                 Output Shape              Param #   \n",
      "=================================================================\n",
      "dense_9 (Dense)              (None, 8)                 656       \n",
      "_________________________________________________________________\n",
      "dense_10 (Dense)             (None, 16)                144       \n",
      "_________________________________________________________________\n",
      "dense_11 (Dense)             (None, 1)                 17        \n",
      "=================================================================\n",
      "Total params: 817\n",
      "Trainable params: 817\n",
      "Non-trainable params: 0\n",
      "_________________________________________________________________\n",
      "None\n"
     ]
    }
   ],
   "source": [
    "print(model.summary())\n"
   ]
  },
  {
   "cell_type": "code",
   "execution_count": 50,
   "id": "e7170ba8-0a4d-4242-b012-efeb56e2b190",
   "metadata": {},
   "outputs": [
    {
     "name": "stdout",
     "output_type": "stream",
     "text": [
      "Epoch 1/50\n",
      "154/154 [==============================] - 1s 4ms/step - loss: 18162.5449 - mean_squared_error: 18162.5449 - val_loss: 2496.7549 - val_mean_squared_error: 2496.7549\n",
      "Epoch 2/50\n",
      "154/154 [==============================] - 0s 3ms/step - loss: 2365.8955 - mean_squared_error: 2365.8955 - val_loss: 2479.5273 - val_mean_squared_error: 2479.5271\n",
      "Epoch 3/50\n",
      "154/154 [==============================] - 0s 3ms/step - loss: 2357.3000 - mean_squared_error: 2357.3000 - val_loss: 2467.3584 - val_mean_squared_error: 2467.3584\n",
      "Epoch 4/50\n",
      "154/154 [==============================] - 0s 3ms/step - loss: 2347.8435 - mean_squared_error: 2347.8435 - val_loss: 2454.8433 - val_mean_squared_error: 2454.8433\n",
      "Epoch 5/50\n",
      "154/154 [==============================] - 0s 3ms/step - loss: 2340.2886 - mean_squared_error: 2340.2886 - val_loss: 2445.5803 - val_mean_squared_error: 2445.5803\n",
      "Epoch 6/50\n",
      "154/154 [==============================] - 1s 4ms/step - loss: 2332.9651 - mean_squared_error: 2332.9651 - val_loss: 2437.9280 - val_mean_squared_error: 2437.9280\n",
      "Epoch 7/50\n",
      "154/154 [==============================] - 0s 3ms/step - loss: 2325.3257 - mean_squared_error: 2325.3257 - val_loss: 2429.7998 - val_mean_squared_error: 2429.7998\n",
      "Epoch 8/50\n",
      "154/154 [==============================] - 0s 2ms/step - loss: 2317.2739 - mean_squared_error: 2317.2739 - val_loss: 2421.3801 - val_mean_squared_error: 2421.3801\n",
      "Epoch 9/50\n",
      "154/154 [==============================] - 0s 3ms/step - loss: 2308.8025 - mean_squared_error: 2308.8025 - val_loss: 2412.6929 - val_mean_squared_error: 2412.6929\n",
      "Epoch 10/50\n",
      "154/154 [==============================] - 0s 3ms/step - loss: 2298.0955 - mean_squared_error: 2298.0955 - val_loss: 2402.5559 - val_mean_squared_error: 2402.5559\n",
      "Epoch 11/50\n",
      "154/154 [==============================] - 0s 3ms/step - loss: 2287.1890 - mean_squared_error: 2287.1890 - val_loss: 2397.1873 - val_mean_squared_error: 2397.1873\n",
      "Epoch 12/50\n",
      "154/154 [==============================] - 0s 3ms/step - loss: 2275.4209 - mean_squared_error: 2275.4209 - val_loss: 2381.9165 - val_mean_squared_error: 2381.9165\n",
      "Epoch 13/50\n",
      "154/154 [==============================] - 0s 3ms/step - loss: 2264.8921 - mean_squared_error: 2264.8921 - val_loss: 2372.3997 - val_mean_squared_error: 2372.3997\n",
      "Epoch 14/50\n",
      "154/154 [==============================] - 0s 3ms/step - loss: 2254.8928 - mean_squared_error: 2254.8928 - val_loss: 2362.8982 - val_mean_squared_error: 2362.8982\n",
      "Epoch 15/50\n",
      "154/154 [==============================] - 1s 4ms/step - loss: 2245.6191 - mean_squared_error: 2245.6191 - val_loss: 2354.2617 - val_mean_squared_error: 2354.2617\n",
      "Epoch 16/50\n",
      "154/154 [==============================] - 1s 4ms/step - loss: 2236.2793 - mean_squared_error: 2236.2793 - val_loss: 2343.6201 - val_mean_squared_error: 2343.6201\n",
      "Epoch 17/50\n",
      "154/154 [==============================] - 1s 4ms/step - loss: 2226.8213 - mean_squared_error: 2226.8213 - val_loss: 2333.9839 - val_mean_squared_error: 2333.9839\n",
      "Epoch 18/50\n",
      "154/154 [==============================] - 1s 5ms/step - loss: 2217.5774 - mean_squared_error: 2217.5774 - val_loss: 2324.6860 - val_mean_squared_error: 2324.6860\n",
      "Epoch 19/50\n",
      "154/154 [==============================] - 1s 5ms/step - loss: 2208.2180 - mean_squared_error: 2208.2180 - val_loss: 2314.8433 - val_mean_squared_error: 2314.8433\n",
      "Epoch 20/50\n",
      "154/154 [==============================] - 1s 6ms/step - loss: 2198.9949 - mean_squared_error: 2198.9949 - val_loss: 2305.5359 - val_mean_squared_error: 2305.5361\n",
      "Epoch 21/50\n",
      "154/154 [==============================] - 1s 8ms/step - loss: 2189.5786 - mean_squared_error: 2189.5786 - val_loss: 2295.2932 - val_mean_squared_error: 2295.2932\n",
      "Epoch 22/50\n",
      "154/154 [==============================] - 1s 7ms/step - loss: 2180.4319 - mean_squared_error: 2180.4319 - val_loss: 2285.4951 - val_mean_squared_error: 2285.4951\n",
      "Epoch 23/50\n",
      "154/154 [==============================] - 1s 6ms/step - loss: 2170.9094 - mean_squared_error: 2170.9094 - val_loss: 2275.8699 - val_mean_squared_error: 2275.8699\n",
      "Epoch 24/50\n",
      "154/154 [==============================] - 1s 6ms/step - loss: 2162.0378 - mean_squared_error: 2162.0378 - val_loss: 2266.0276 - val_mean_squared_error: 2266.0276\n",
      "Epoch 25/50\n",
      "154/154 [==============================] - 1s 4ms/step - loss: 2152.7236 - mean_squared_error: 2152.7236 - val_loss: 2256.3496 - val_mean_squared_error: 2256.3496\n",
      "Epoch 26/50\n",
      "154/154 [==============================] - 1s 4ms/step - loss: 2143.2539 - mean_squared_error: 2143.2539 - val_loss: 2247.7390 - val_mean_squared_error: 2247.7390\n",
      "Epoch 27/50\n",
      "154/154 [==============================] - 1s 4ms/step - loss: 2134.4805 - mean_squared_error: 2134.4805 - val_loss: 2238.8657 - val_mean_squared_error: 2238.8657\n",
      "Epoch 28/50\n",
      "154/154 [==============================] - 1s 4ms/step - loss: 2125.2556 - mean_squared_error: 2125.2556 - val_loss: 2227.9731 - val_mean_squared_error: 2227.9734\n",
      "Epoch 29/50\n",
      "154/154 [==============================] - 1s 4ms/step - loss: 2116.0254 - mean_squared_error: 2116.0254 - val_loss: 2218.6318 - val_mean_squared_error: 2218.6318\n",
      "Epoch 30/50\n",
      "154/154 [==============================] - 1s 3ms/step - loss: 2107.7302 - mean_squared_error: 2107.7302 - val_loss: 2208.9189 - val_mean_squared_error: 2208.9189\n",
      "Epoch 31/50\n",
      "154/154 [==============================] - 1s 4ms/step - loss: 2098.4126 - mean_squared_error: 2098.4126 - val_loss: 2200.1631 - val_mean_squared_error: 2200.1631\n",
      "Epoch 32/50\n",
      "154/154 [==============================] - 1s 4ms/step - loss: 2088.9683 - mean_squared_error: 2088.9683 - val_loss: 2192.0129 - val_mean_squared_error: 2192.0129\n",
      "Epoch 33/50\n",
      "154/154 [==============================] - 1s 4ms/step - loss: 2080.6794 - mean_squared_error: 2080.6794 - val_loss: 2182.0337 - val_mean_squared_error: 2182.0337\n",
      "Epoch 34/50\n",
      "154/154 [==============================] - 1s 4ms/step - loss: 2071.6580 - mean_squared_error: 2071.6580 - val_loss: 2172.8677 - val_mean_squared_error: 2172.8677\n",
      "Epoch 35/50\n",
      "154/154 [==============================] - 1s 4ms/step - loss: 2062.7837 - mean_squared_error: 2062.7837 - val_loss: 2163.2634 - val_mean_squared_error: 2163.2634\n",
      "Epoch 36/50\n",
      "154/154 [==============================] - 1s 3ms/step - loss: 2054.5298 - mean_squared_error: 2054.5298 - val_loss: 2154.4155 - val_mean_squared_error: 2154.4155\n",
      "Epoch 37/50\n",
      "154/154 [==============================] - 1s 4ms/step - loss: 2045.3748 - mean_squared_error: 2045.3748 - val_loss: 2144.0801 - val_mean_squared_error: 2144.0801\n",
      "Epoch 38/50\n",
      "154/154 [==============================] - 1s 4ms/step - loss: 2036.4310 - mean_squared_error: 2036.4310 - val_loss: 2135.0518 - val_mean_squared_error: 2135.0518\n",
      "Epoch 39/50\n",
      "154/154 [==============================] - 1s 4ms/step - loss: 2028.1294 - mean_squared_error: 2028.1294 - val_loss: 2127.5901 - val_mean_squared_error: 2127.5901\n",
      "Epoch 40/50\n",
      "154/154 [==============================] - 1s 4ms/step - loss: 2019.4978 - mean_squared_error: 2019.4978 - val_loss: 2117.6196 - val_mean_squared_error: 2117.6196\n",
      "Epoch 41/50\n",
      "154/154 [==============================] - 1s 4ms/step - loss: 2011.0953 - mean_squared_error: 2011.0953 - val_loss: 2108.4343 - val_mean_squared_error: 2108.4343\n",
      "Epoch 42/50\n",
      "154/154 [==============================] - 1s 4ms/step - loss: 2002.4136 - mean_squared_error: 2002.4136 - val_loss: 2099.5342 - val_mean_squared_error: 2099.5342\n",
      "Epoch 43/50\n",
      "154/154 [==============================] - 1s 4ms/step - loss: 1994.3539 - mean_squared_error: 1994.3539 - val_loss: 2090.8582 - val_mean_squared_error: 2090.8582\n",
      "Epoch 44/50\n",
      "154/154 [==============================] - 1s 3ms/step - loss: 1986.3293 - mean_squared_error: 1986.3293 - val_loss: 2081.6802 - val_mean_squared_error: 2081.6802\n",
      "Epoch 45/50\n",
      "154/154 [==============================] - 1s 4ms/step - loss: 1977.2299 - mean_squared_error: 1977.2299 - val_loss: 2072.6470 - val_mean_squared_error: 2072.6470\n",
      "Epoch 46/50\n",
      "154/154 [==============================] - 1s 3ms/step - loss: 1968.8665 - mean_squared_error: 1968.8665 - val_loss: 2064.5632 - val_mean_squared_error: 2064.5632\n",
      "Epoch 47/50\n",
      "154/154 [==============================] - 1s 4ms/step - loss: 1960.7158 - mean_squared_error: 1960.7158 - val_loss: 2055.3040 - val_mean_squared_error: 2055.3040\n",
      "Epoch 48/50\n",
      "154/154 [==============================] - 0s 3ms/step - loss: 1952.3118 - mean_squared_error: 1952.3118 - val_loss: 2047.2611 - val_mean_squared_error: 2047.2611\n",
      "Epoch 49/50\n",
      "154/154 [==============================] - 0s 3ms/step - loss: 1945.0353 - mean_squared_error: 1945.0353 - val_loss: 2039.5083 - val_mean_squared_error: 2039.5083\n",
      "Epoch 50/50\n",
      "154/154 [==============================] - 0s 3ms/step - loss: 1936.3558 - mean_squared_error: 1936.3558 - val_loss: 2029.1782 - val_mean_squared_error: 2029.1782\n"
     ]
    }
   ],
   "source": [
    "history = model.fit(X_train, y_train, batch_size=128, epochs=50, verbose=1, validation_split=0.03)\n"
   ]
  },
  {
   "cell_type": "code",
   "execution_count": null,
   "id": "60fe6a51-52a5-454d-99ad-ec7b709dc5e2",
   "metadata": {},
   "outputs": [],
   "source": []
  },
  {
   "cell_type": "code",
   "execution_count": null,
   "id": "df111de4-9171-40a1-b313-5c0cfeb2ca00",
   "metadata": {},
   "outputs": [],
   "source": []
  },
  {
   "cell_type": "code",
   "execution_count": null,
   "id": "c80fc329-5f4f-4fd7-8625-fd68afb6726a",
   "metadata": {},
   "outputs": [],
   "source": []
  },
  {
   "cell_type": "code",
   "execution_count": null,
   "id": "d763d27d-271f-48f2-972d-eb03e20263a7",
   "metadata": {},
   "outputs": [],
   "source": []
  },
  {
   "cell_type": "code",
   "execution_count": 12,
   "id": "e6d3c569-b901-41d2-ab57-e5e038810542",
   "metadata": {},
   "outputs": [
    {
     "name": "stdout",
     "output_type": "stream",
     "text": [
      "34/34 [==============================] - 2s 3ms/step - loss: 2227.2317 - mean_squared_error: 2227.2317\n",
      "Test Score: 2227.231689453125\n",
      "Test Accuracy: 2227.231689453125\n"
     ]
    }
   ],
   "source": [
    "score = model.evaluate(X_test, y_test, verbose=1)\n",
    "\n",
    "print(\"Test Score:\", score[0])\n",
    "print(\"Test Accuracy:\", score[1])"
   ]
  },
  {
   "cell_type": "code",
   "execution_count": null,
   "id": "7982cdb9-f5ac-4b61-9483-33323f2a5d57",
   "metadata": {},
   "outputs": [],
   "source": []
  },
  {
   "cell_type": "code",
   "execution_count": 5,
   "id": "c16b1c1b-308c-45bd-aead-ab4d3d1d8b19",
   "metadata": {},
   "outputs": [],
   "source": [
    " # create regressor object\n",
    "regressor = RandomForestRegressor(n_estimators = 1000, random_state = 0)"
   ]
  },
  {
   "cell_type": "code",
   "execution_count": 16,
   "id": "a440bcf2-8ae6-400b-ba56-a0628161f45f",
   "metadata": {},
   "outputs": [
    {
     "data": {
      "text/plain": [
       "RandomForestRegressor(n_estimators=1000, random_state=0)"
      ]
     },
     "execution_count": 16,
     "metadata": {},
     "output_type": "execute_result"
    }
   ],
   "source": [
    "regressor.fit(X_train, y_train)  \n"
   ]
  },
  {
   "cell_type": "code",
   "execution_count": 17,
   "id": "b98791f8-dcbe-445b-a045-0b7e97e2a7d5",
   "metadata": {},
   "outputs": [],
   "source": [
    "Y_pred = regressor.predict(X_test) "
   ]
  },
  {
   "cell_type": "code",
   "execution_count": 24,
   "id": "292fb4a4-228f-4600-9860-b347a4cc4232",
   "metadata": {},
   "outputs": [],
   "source": [
    "error=mean_absolute_percentage_error(y_test, Y_pred)"
   ]
  },
  {
   "cell_type": "code",
   "execution_count": 25,
   "id": "a88a944c-73de-4828-a5bf-baa140eec373",
   "metadata": {},
   "outputs": [
    {
     "data": {
      "text/plain": [
       "1.492219609990375"
      ]
     },
     "execution_count": 25,
     "metadata": {},
     "output_type": "execute_result"
    }
   ],
   "source": [
    "error"
   ]
  },
  {
   "cell_type": "code",
   "execution_count": 6,
   "id": "18c3de13-9d18-49a9-90a7-49fc898ce8a6",
   "metadata": {},
   "outputs": [],
   "source": [
    "## Weightage mean\n",
    "def mean_el(prop_el):\n",
    "    return np.average(prop_el)\n",
    "\n",
    "def wt_mean(prop_el,list_weight):\n",
    "    list1=[(x/sum(prop_el)) for x in prop_el]\n",
    "    list2=[(x/sum(list_weight)) for x in list_weight]\n",
    "    m=[a*b for a,b in zip(prop_el,list2)]\n",
    "    return sum(m)\n"
   ]
  },
  {
   "cell_type": "code",
   "execution_count": null,
   "id": "80fed219-7fc3-486b-97c2-de4316176e71",
   "metadata": {},
   "outputs": [],
   "source": []
  },
  {
   "cell_type": "code",
   "execution_count": 7,
   "id": "530417ee-0eb9-4f1d-97dc-543222561905",
   "metadata": {},
   "outputs": [],
   "source": [
    "## gmean\n",
    "def geomean(prop_el):\n",
    "    a= np.array(prop_el)\n",
    "    return a.prod()**(1.0/len(a))"
   ]
  },
  {
   "cell_type": "code",
   "execution_count": 8,
   "id": "b12d15da-77bc-4abc-aa08-46b30c15ec45",
   "metadata": {},
   "outputs": [
    {
     "data": {
      "text/plain": [
       "116.516"
      ]
     },
     "execution_count": 8,
     "metadata": {},
     "output_type": "execute_result"
    }
   ],
   "source": [
    "wt_mean([26.98,138.9],[1,4])"
   ]
  },
  {
   "cell_type": "code",
   "execution_count": 9,
   "id": "958a1157-f302-44d7-8197-d3819c8fc94e",
   "metadata": {},
   "outputs": [
    {
     "data": {
      "text/plain": [
       "116.516"
      ]
     },
     "execution_count": 9,
     "metadata": {},
     "output_type": "execute_result"
    }
   ],
   "source": [
    "wt_mean([26.98,138.9],[1,4])"
   ]
  },
  {
   "cell_type": "code",
   "execution_count": 10,
   "id": "fb9aab00-390c-467a-b8b0-06333e5429f0",
   "metadata": {},
   "outputs": [],
   "source": [
    "def wt_geomean(prop_el,list_weight):\n",
    "    temp=[]\n",
    "    for i in range(len(prop_el)):\n",
    "        temp.append(prop_el[i]**list_weight[i])\n",
    "    a=np.asarray(temp).prod()\n",
    "    \n",
    "    return a**(1/sum(list_weight))"
   ]
  },
  {
   "cell_type": "code",
   "execution_count": 11,
   "id": "cf7bb568-f58b-419b-b903-2c4b75997f01",
   "metadata": {},
   "outputs": [
    {
     "data": {
      "text/plain": [
       "46.58671045576934"
      ]
     },
     "execution_count": 11,
     "metadata": {},
     "output_type": "execute_result"
    }
   ],
   "source": [
    "wt_geomean([26.98,138.9],[2,1])"
   ]
  },
  {
   "cell_type": "code",
   "execution_count": 12,
   "id": "5fb758cf-e45c-485d-909f-d6fee1a4a410",
   "metadata": {},
   "outputs": [],
   "source": [
    "def entropy(prop_el):\n",
    "    wi=[]\n",
    "    for i in range(len(prop_el)):\n",
    "        w=(prop_el[i]/sum(prop_el))\n",
    "        #print(w)\n",
    "        wi.append(-1*w*np.log(w))\n",
    "    return sum(wi)"
   ]
  },
  {
   "cell_type": "code",
   "execution_count": 13,
   "id": "0816af64-74bb-4d91-8cfc-3a12343e5657",
   "metadata": {},
   "outputs": [
    {
     "data": {
      "text/plain": [
       "0.6336091611028696"
      ]
     },
     "execution_count": 13,
     "metadata": {},
     "output_type": "execute_result"
    }
   ],
   "source": [
    "entropy([91.28,186])"
   ]
  },
  {
   "cell_type": "code",
   "execution_count": 14,
   "id": "f33aee9f-14f5-4bd1-84f3-0885a64eeb3d",
   "metadata": {},
   "outputs": [],
   "source": [
    "def wt_entropy(prop_el,list_weight):\n",
    "    pw=[]\n",
    "    entropy_wt=[]\n",
    "    for i in range(len(prop_el)):\n",
    "        w=(prop_el[i]/sum(prop_el))\n",
    "        p=list_weight[i]/sum(list_weight)\n",
    "        #p=list_weight[i]\n",
    "        pw.append(p*w)\n",
    "    for i in range(len(pw)):\n",
    "        Ai=pw[i]/sum(pw)\n",
    "        #print(Ai)\n",
    "        #print(sum(pw))\n",
    "        entropy_wt.append(-1*Ai*np.log(Ai))\n",
    "    return sum(entropy_wt)\n",
    "        "
   ]
  },
  {
   "cell_type": "code",
   "execution_count": 15,
   "id": "2f1cd1f2-e359-48df-a3e8-171fcc68ad18",
   "metadata": {},
   "outputs": [],
   "source": [
    "def range_el(prop_el):\n",
    "    return max(prop_el)-min(prop_el)\n",
    "def wt_range_el(prop_el,weight_list):\n",
    "    \n",
    "    \n",
    "    return max(prop_el)*weight_list[np.argmax(prop_el)]/sum(weight_list)  - min(prop_el)*weight_list[np.argmin(prop_el)]/sum(weight_list)"
   ]
  },
  {
   "cell_type": "code",
   "execution_count": 16,
   "id": "028730bf-226f-439a-84e5-4acb7d0a957a",
   "metadata": {},
   "outputs": [],
   "source": [
    "def std_dv(prop_el):\n",
    "    return np.std(prop_el)\n",
    "\n",
    "def wt_std_dv(prop_el,weight_list):\n",
    "    wt_m=wt_mean(prop_el,weight_list)\n",
    "    #print(wt_m)\n",
    "    t=[]\n",
    "    for i in range(len(prop_el)):\n",
    "        m=prop_el[i]-wt_m\n",
    "        m=weight_list[i]*(1/sum(weight_list))*m**2\n",
    "        t.append(m)\n",
    "        \n",
    "    return sum(t)**(1/2)"
   ]
  },
  {
   "cell_type": "markdown",
   "id": "423ff1a8-72a6-4466-b91b-d387e87b3419",
   "metadata": {},
   "source": [
    "# feature engineering"
   ]
  },
  {
   "cell_type": "markdown",
   "id": "bc366369-aaaa-4a86-aea2-d24a6bf583a2",
   "metadata": {},
   "source": [
    "## Get statistical details of an element"
   ]
  },
  {
   "cell_type": "code",
   "execution_count": 17,
   "id": "915b1095-7cd8-4e73-8288-30689acf6577",
   "metadata": {},
   "outputs": [],
   "source": [
    "def get_stats(element_list,composition):\n",
    "    no_el=len(element_list)\n",
    "    mean_s=mean_el(element_list)\n",
    "    wt_mean1=wt_mean(element_list,composition)\n",
    "    geomean1=geomean(element_list)\n",
    "    wt_geomean1=wt_geomean(element_list,composition)\n",
    "    entropy1=entropy(element_list)\n",
    "    wt_entropy1=wt_entropy(element_list,composition)\n",
    "    range_el1=range_el(element_list)\n",
    "    wt_range_el1=wt_range_el(element_list,composition)\n",
    "    std_dv1=std_dv(element_list)\n",
    "    wt_std_dv1=wt_std_dv(element_list,composition)\n",
    "    return [no_el,mean_s,wt_mean1,geomean1,wt_geomean1,entropy1,wt_entropy1,range_el1,wt_range_el1,std_dv1,wt_std_dv1]\n"
   ]
  },
  {
   "cell_type": "code",
   "execution_count": 29,
   "id": "cb35cd6f-9dea-4ec3-a016-0d77961886f3",
   "metadata": {},
   "outputs": [
    {
     "data": {
      "text/plain": [
       "[2,\n",
       " 138.64,\n",
       " 154.42666666666668,\n",
       " 130.29996162700894,\n",
       " 146.71251881350724,\n",
       " 0.6336091611028696,\n",
       " 0.49625728370029376,\n",
       " 94.72,\n",
       " 93.57333333333334,\n",
       " 47.36,\n",
       " 44.65143620932652]"
      ]
     },
     "execution_count": 29,
     "metadata": {},
     "output_type": "execute_result"
    }
   ],
   "source": [
    "get_stats([91.28,186],[1,2])"
   ]
  },
  {
   "cell_type": "code",
   "execution_count": 19,
   "id": "9e12055c-1bcd-4e28-afb0-a56aaada8dbc",
   "metadata": {},
   "outputs": [],
   "source": [
    "import re\n",
    "r = re.compile(\"([a-zA-Z]+)([0-9]+)\")\n"
   ]
  },
  {
   "cell_type": "code",
   "execution_count": 20,
   "id": "54a02888-8f6a-4cb4-a5b4-9d40524b8e91",
   "metadata": {},
   "outputs": [
    {
     "name": "stdout",
     "output_type": "stream",
     "text": [
      "('Co', '12')\n"
     ]
    }
   ],
   "source": [
    "strings = 'Co12NA4'\n",
    "print(r.match(strings).groups(3))"
   ]
  },
  {
   "cell_type": "code",
   "execution_count": 21,
   "id": "98ca6c62-b1f4-4aad-aa9a-80b12c086842",
   "metadata": {},
   "outputs": [
    {
     "ename": "SyntaxError",
     "evalue": "invalid syntax (<ipython-input-21-11ad9ff7dd92>, line 2)",
     "output_type": "error",
     "traceback": [
      "\u001b[1;36m  File \u001b[1;32m\"<ipython-input-21-11ad9ff7dd92>\"\u001b[1;36m, line \u001b[1;32m2\u001b[0m\n\u001b[1;33m    print [r.match(string).groups() for string in strings]\u001b[0m\n\u001b[1;37m                                    ^\u001b[0m\n\u001b[1;31mSyntaxError\u001b[0m\u001b[1;31m:\u001b[0m invalid syntax\n"
     ]
    }
   ],
   "source": [
    "strings = ['Co12']\n",
    "print [r.match(string).groups() for string in strings]"
   ]
  },
  {
   "cell_type": "code",
   "execution_count": 22,
   "id": "f8cb609a-2e5d-4dbd-bc5b-5ed45d5a4301",
   "metadata": {},
   "outputs": [
    {
     "name": "stdout",
     "output_type": "stream",
     "text": [
      "['C', '12', 'H', '1']\n"
     ]
    }
   ],
   "source": [
    "s = \"C12H1\"\n",
    "sub = []\n",
    "char = \"\"\n",
    "num = \"\"\n",
    "for letter in s:\n",
    "    if letter.isdigit():\n",
    "        if char:\n",
    "            sub.append(char)\n",
    "            char = \"\"\n",
    "        num += letter\n",
    "    else:\n",
    "        if num:\n",
    "            sub.append(num)\n",
    "            num = \"\"\n",
    "        char += letter\n",
    "sub.append(char) if char else sub.append(num)\n",
    "print(sub)\n",
    "        "
   ]
  },
  {
   "cell_type": "code",
   "execution_count": 23,
   "id": "25be083b-84f6-467c-8579-a168f66ff3d4",
   "metadata": {},
   "outputs": [],
   "source": [
    "def compound_to_string(s):\n",
    "    sub = []\n",
    "    char = \"\"\n",
    "    num = \"\"\n",
    "    for letter in s:\n",
    "        if letter.isdigit():\n",
    "            if char:\n",
    "                sub.append(char)\n",
    "                char = \"\"\n",
    "            num += letter\n",
    "        else:\n",
    "            if num:\n",
    "                sub.append(num)\n",
    "                num = \"\"\n",
    "            char += letter\n",
    "    sub.append(char) if char else sub.append(num)\n",
    "    return sub"
   ]
  },
  {
   "cell_type": "code",
   "execution_count": 26,
   "id": "50b5f9cf-ac44-4fd9-a1fa-a8872c2df2a3",
   "metadata": {},
   "outputs": [],
   "source": [
    "def compound_to_stat(string):\n",
    "    t=compound_to_string(string)\n",
    "    element_list=[]\n",
    "    composition_list=[]\n",
    "    for i in range(len(t)):\n",
    "        if i ==0 or i%2==0:\n",
    "            element_list.append(t[i])\n",
    "        else:\n",
    "            composition_list.append(int(t[i]))\n",
    "    return element_list,composition_list\n",
    "        "
   ]
  },
  {
   "cell_type": "code",
   "execution_count": 27,
   "id": "d2ce834f-08f3-4dce-af40-139e091bf08a",
   "metadata": {},
   "outputs": [
    {
     "data": {
      "text/plain": [
       "['Ca', '1', 'H', '4', 'Naaa', '5']"
      ]
     },
     "execution_count": 27,
     "metadata": {},
     "output_type": "execute_result"
    }
   ],
   "source": [
    "compound_to_string('Ca1H4Naaa5')"
   ]
  },
  {
   "cell_type": "markdown",
   "id": "8793a0a6-bf80-4851-bc8c-da1cf0ad1e52",
   "metadata": {},
   "source": [
    "## Progress check"
   ]
  },
  {
   "cell_type": "code",
   "execution_count": 28,
   "id": "7753d456-e3f3-4e75-aefb-56a8835c2670",
   "metadata": {},
   "outputs": [
    {
     "data": {
      "text/plain": [
       "(['Ca', 'H', 'Naaa'], [1, 4, 5])"
      ]
     },
     "execution_count": 28,
     "metadata": {},
     "output_type": "execute_result"
    }
   ],
   "source": [
    "compound_to_stat('Ca1H4Naaa5')"
   ]
  },
  {
   "cell_type": "code",
   "execution_count": 37,
   "id": "a6c30223-4156-4782-a837-f1d62f3a8187",
   "metadata": {},
   "outputs": [],
   "source": [
    "d=pd.read_excel('database.xlsx',index_col=0,skiprows=1)"
   ]
  },
  {
   "cell_type": "code",
   "execution_count": 79,
   "id": "67a8d987-0b83-46ee-9b21-3d88bcbe1dd1",
   "metadata": {},
   "outputs": [],
   "source": [
    "#d"
   ]
  },
  {
   "cell_type": "code",
   "execution_count": 39,
   "id": "b5d07096-56fe-48f2-be14-b971f8bbc2cb",
   "metadata": {},
   "outputs": [],
   "source": [
    "properties=d.index.tolist()"
   ]
  },
  {
   "cell_type": "code",
   "execution_count": 76,
   "id": "9fd371cd-915b-4a79-859c-ceeb84afa603",
   "metadata": {},
   "outputs": [],
   "source": [
    "t='Si2Na1'\n",
    "el,qu=compound_to_stat(t)\n"
   ]
  },
  {
   "cell_type": "code",
   "execution_count": 77,
   "id": "fbc78b8d-9979-4151-b31d-8f2363b94554",
   "metadata": {},
   "outputs": [],
   "source": [
    "prop1=[]\n",
    "p='Molar volume'\n",
    "for i in el:\n",
    "    prop1.append(d.loc[p][i])\n",
    "t=get_stats(prop1,qu)\n"
   ]
  },
  {
   "cell_type": "code",
   "execution_count": 84,
   "id": "183f81d9-4597-4453-a85d-f329224767bf",
   "metadata": {},
   "outputs": [
    {
     "name": "stdout",
     "output_type": "stream",
     "text": [
      "[2, 12.5, 12.999999999999998, 12.409673645990857, 12.918623821828753, 0.6859298002523728, 0.594880254188934, 3.0, 5.666666666666668, 1.5, 1.414213562373095]\n",
      "[2, 25.53738464, 26.38658976, 25.409991543265026, 26.272081926870815, 0.6881628421059182, 0.6025294495344129, 5.09523072, 11.060076906666666, 2.54761536, 2.401914795881343]\n",
      "[2, 7.5, 9.666666666666666, 3.7416573867739413, 5.808785733563703, 0.24493002679463532, 0.1499949236104151, 13.0, 9.0, 6.5, 6.128258770283411]\n",
      "[2, 3.0, 3.0, 3.0, 3.0, 0.6931471805599453, 0.6365141682948128, 0.0, 0.0, 0.0, 0.0]\n",
      "[2, 1.5, 1.6666666666666665, 1.4142135623730951, 1.5874010519681994, 0.6365141682948128, 0.500402423538188, 1.0, 1.0, 0.5, 0.4714045207910317]\n",
      "[2, 1649.0, 1876.0, 1501.8122385970892, 1738.5842184871597, 0.6052657044634085, 0.4590388693960619, 1362.0, 1230.6666666666665, 681.0, 642.0529573173851]\n",
      "[2, 17.92, 15.966666666666665, 16.93478077803194, 15.122914215302576, 0.6386835763519336, 0.6931219886869282, 11.72, -0.11333333333333417, 5.86, 5.524860983670892]\n",
      "[2, 145.0, 146.66666666666666, 144.9137674618944, 146.58972088782372, 0.6925525323607232, 0.625491359725573, 10.0, 53.333333333333336, 5.0, 4.714045207910317]\n",
      "[2, 1028.935, 1248.29, 790.985265349488, 1018.1629509473793, 0.4717274115286756, 0.3229555763324425, 1316.13, 1001.0433333333334, 658.0649999999999, 620.4296319487005]\n",
      "[2, 2164.5, 2500.6666666666665, 1915.199206349042, 2266.205692368655, 0.5802887103188471, 0.4297423078568504, 2017.0, 1730.0000000000002, 1008.5, 950.8229184355109]\n",
      "[2, 1135.565, 1252.3766666666666, 1080.140351991351, 1201.3228295380684, 0.6447441563424576, 0.512589697482041, 700.87, 728.9566666666667, 350.435, 330.3932864868104]\n",
      "[2, 26.400000000000002, 34.333333333333336, 11.424535001478178, 18.71228948047915, 0.19627853735435513, 0.1177948584651963, 47.6, 32.6, 23.8, 22.438855189653108]\n",
      "[2, 228.35, 271.9, 187.2813391665064, 232.64540917473548, 0.5191120720929596, 0.3664753115144709, 261.3, 206.76666666666668, 130.64999999999998, 123.17800128269658]\n",
      "[2, 281.5, 339.6666666666667, 220.8891124523796, 281.2577431942247, 0.4863002206335021, 0.335942728772073, 349.0, 268.3333333333333, 174.5, 164.52017775607004]\n",
      "[2, 145.0, 133.33333333333331, 140.71247279470288, 129.62416101898714, 0.6637254974722313, 0.6881388137135884, 70.0, -13.333333333333329, 35.0, 32.99831645537222]\n",
      "[2, 138.5, 129.33333333333331, 135.74240310234677, 126.9359629214009, 0.6733033357438176, 0.6826951549767988, 55.0, -18.666666666666664, 27.5, 25.92724864350674]\n",
      "[2, 135.5, 129.0, 134.08952233489387, 127.76617467978038, 0.6827558862272229, 0.6732206533681097, 39.0, -25.666666666666664, 19.5, 18.384776310850235]\n",
      "[2, 133.5, 124.66666666666666, 130.843417870369, 122.35710117541655, 0.6733142174832598, 0.6826871405907657, 53.0, -17.999999999999993, 26.5, 24.984439601924677]\n",
      "[2, 234.5, 229.33333333333331, 233.9871791359518, 228.88082635516008, 0.6909611089678672, 0.6553337329763014, 31.0, -62.66666666666667, 15.5, 14.613540144521982]\n",
      "[2, 1.415, 1.5766666666666667, 1.3292855223765885, 1.4973731803420314, 0.633198393849085, 0.4956771455806925, 0.9699999999999999, 0.9566666666666666, 0.48499999999999993, 0.45726238516730067]\n",
      "[2, 228.0, 227.66666666666663, 227.99780700699733, 227.66471828917597, 0.6931375621850017, 0.6378587443076964, 2.0, -75.00000000000001, 1.0, 0.9428090415820634]\n",
      "[2, 4.5, 4.666666666666666, 4.47213595499958, 4.641588833612778, 0.6869615765973234, 0.5982695885852573, 1.0, 2.0, 0.5, 0.4714045207910317]\n",
      "[2, 486.07500000000005, 505.08, 482.7195825735683, 502.05798674587453, 0.6862520588672103, 0.5959159520682862, 114.03000000000003, 219.04, 57.015000000000015, 53.754257505801355]\n",
      "[2, 486.07500000000005, 505.08, 482.7195825735683, 502.05798674587453, 0.6862520588672103, 0.5959159520682862, 114.03000000000003, 219.04, 57.015000000000015, 53.754257505801355]\n",
      "[2, 486.07500000000005, 505.08, 482.7195825735683, 502.05798674587453, 0.6862520588672103, 0.5959159520682862, 114.03000000000003, 219.04, 57.015000000000015, 53.754257505801355]\n",
      "[2, 90.0, 90.0, 90.0, 89.99999999999997, 0.6931471805599453, 0.6365141682948128, 0.0, 0.0, 0.0, 0.0]\n",
      "[2, 90.0, 90.0, 90.0, 89.99999999999997, 0.6931471805599453, 0.6365141682948128, 0.0, 0.0, 0.0, 0.0]\n",
      "[2, 90.0, 90.0, 90.0, 89.99999999999997, 0.6931471805599453, 0.6365141682948128, 0.0, 0.0, 0.0, 0.0]\n",
      "[2, 641.185, 689.6299999999999, 624.4965508311475, 674.4088895839374, 0.6672337653641658, 0.550698761818889, 290.66999999999996, 359.0633333333334, 145.33499999999998, 137.02315205832917]\n",
      "[2, 3069.785, 2572.233333333333, 2682.4542861342484, 2247.212027710638, 0.5697676574904811, 0.6764031755854523, 2985.3099999999995, 469.3933333333332, 1492.6549999999997, 1407.2886299626746]\n",
      "[2, 5070.93, 4457.813333333333, 4725.581725290549, 4163.339460340066, 0.6258384057738551, 0.6925881791958035, 3678.7, 149.03999999999996, 1839.35, 1734.1558106339683]\n"
     ]
    }
   ],
   "source": [
    "t='Si2Na1'\n",
    "el,qu=compound_to_stat(t)\n",
    "expand_list=[]\n",
    "for each in properties:\n",
    "    prop1=[]\n",
    "    p=each\n",
    "    for i in el:\n",
    "        prop1.append(d.loc[p][i])\n",
    "    t=get_stats(prop1,qu)\n",
    "    print(t)\n",
    "    expand=expand_list.extend(t)\n",
    "    "
   ]
  },
  {
   "cell_type": "code",
   "execution_count": 86,
   "id": "a796c4b7-a11e-4fb5-a147-d64e18da35c5",
   "metadata": {},
   "outputs": [
    {
     "data": {
      "text/plain": [
       "341"
      ]
     },
     "execution_count": 86,
     "metadata": {},
     "output_type": "execute_result"
    }
   ],
   "source": [
    "len(expand_list)"
   ]
  },
  {
   "cell_type": "code",
   "execution_count": 83,
   "id": "fa60d408-c9e6-47d6-ba0b-4ec940ca0f6e",
   "metadata": {},
   "outputs": [],
   "source": [
    "expand"
   ]
  },
  {
   "cell_type": "code",
   "execution_count": null,
   "id": "b2f2e0ef-020f-445a-a24f-33428a93f049",
   "metadata": {},
   "outputs": [],
   "source": []
  },
  {
   "cell_type": "code",
   "execution_count": 51,
   "id": "8f78dbc0-180f-4285-a492-ce9aa7ccf93e",
   "metadata": {},
   "outputs": [
    {
     "data": {
      "text/plain": [
       "[12.06, 23.78]"
      ]
     },
     "execution_count": 51,
     "metadata": {},
     "output_type": "execute_result"
    }
   ],
   "source": [
    "prop1"
   ]
  },
  {
   "cell_type": "code",
   "execution_count": null,
   "id": "efe7e105-fafc-4a23-a51f-1561cf04279e",
   "metadata": {},
   "outputs": [],
   "source": [
    "data={}\n",
    "for prop in properties:\n",
    "    compound_to_stat('Ca1H4Naaa5')\n",
    "    "
   ]
  },
  {
   "cell_type": "code",
   "execution_count": 40,
   "id": "f5de782f-8116-4126-a8ba-478c30cdf1a7",
   "metadata": {},
   "outputs": [
    {
     "data": {
      "text/plain": [
       "['Atomic number',\n",
       " 'Relative atomic mass (Ar)',\n",
       " 'Group in periodic table',\n",
       " 'Period in periodic table',\n",
       " 'Block in 2erio3ic table',\n",
       " 'Density of solid',\n",
       " 'Molar volume',\n",
       " 'Thermal conductivity',\n",
       " 'Melting point',\n",
       " 'Boiling point',\n",
       " 'Liquid range',\n",
       " 'Enthalpy of fusion',\n",
       " 'Enthalpy of vaporisation',\n",
       " 'Enthalpy of atomisation',\n",
       " 'Atomic radius (empirical)',\n",
       " 'Covalent radius (2008 values)',\n",
       " 'Molecular single bond covalent radius',\n",
       " 'Molecular double bond covalent radius',\n",
       " 'van der Waals radius',\n",
       " 'electronegativity',\n",
       " 'Space group number',\n",
       " 'Structure',\n",
       " 'a',\n",
       " 'b',\n",
       " 'c',\n",
       " 'α',\n",
       " 'β',\n",
       " 'γ',\n",
       " ' First ionisation energy',\n",
       " ' Second ionisation energy',\n",
       " ' Third ionisation energy']"
      ]
     },
     "execution_count": 40,
     "metadata": {},
     "output_type": "execute_result"
    }
   ],
   "source": [
    "properties"
   ]
  },
  {
   "cell_type": "code",
   "execution_count": null,
   "id": "be0f99fd-834e-4990-a9ec-28e1e41db34d",
   "metadata": {},
   "outputs": [],
   "source": []
  },
  {
   "cell_type": "code",
   "execution_count": null,
   "id": "383f0866-c2e2-48c0-aa3a-db218aeff9f8",
   "metadata": {},
   "outputs": [],
   "source": []
  },
  {
   "cell_type": "code",
   "execution_count": null,
   "id": "da0a7f1c-6baf-4589-84a9-4c4424a841a3",
   "metadata": {},
   "outputs": [],
   "source": []
  },
  {
   "cell_type": "code",
   "execution_count": null,
   "id": "04725dfc-c213-460f-8ce4-2ce7b0524b66",
   "metadata": {},
   "outputs": [],
   "source": []
  },
  {
   "cell_type": "code",
   "execution_count": null,
   "id": "0cae8487-65b6-4a6f-8f69-07d8a1fa5922",
   "metadata": {},
   "outputs": [],
   "source": []
  },
  {
   "cell_type": "code",
   "execution_count": null,
   "id": "4d3a2626-ab41-492d-85e1-270f7d1fc669",
   "metadata": {},
   "outputs": [],
   "source": []
  },
  {
   "cell_type": "code",
   "execution_count": null,
   "id": "3bd02edd-e028-4174-b2e4-44b9f353110a",
   "metadata": {},
   "outputs": [],
   "source": []
  },
  {
   "cell_type": "code",
   "execution_count": null,
   "id": "8fdc25bc-b1b3-4835-9feb-2600e1afcaf9",
   "metadata": {},
   "outputs": [],
   "source": []
  },
  {
   "cell_type": "code",
   "execution_count": 104,
   "id": "da898ee1-fe5e-478c-9ede-0283b4ea96fa",
   "metadata": {},
   "outputs": [
    {
     "name": "stdout",
     "output_type": "stream",
     "text": [
      "154.42666666666665\n"
     ]
    },
    {
     "data": {
      "text/plain": [
       "44.65143620932652"
      ]
     },
     "execution_count": 104,
     "metadata": {},
     "output_type": "execute_result"
    }
   ],
   "source": [
    "wt_std_dv([91.28,186],[1,2])"
   ]
  },
  {
   "cell_type": "code",
   "execution_count": 94,
   "id": "d4b44912-f3b2-4713-9571-7450cd55e280",
   "metadata": {},
   "outputs": [
    {
     "data": {
      "text/plain": [
       "93.57333333333334"
      ]
     },
     "execution_count": 94,
     "metadata": {},
     "output_type": "execute_result"
    }
   ],
   "source": [
    "wt_range_el([91.28,186],[1,2])"
   ]
  },
  {
   "cell_type": "code",
   "execution_count": 78,
   "id": "d25bb688-3290-4b68-9810-fa27d2adfbc1",
   "metadata": {},
   "outputs": [
    {
     "name": "stdout",
     "output_type": "stream",
     "text": [
      "0.1970298739423243\n",
      "0.5569340257741874\n",
      "0.8029701260576757\n",
      "0.5569340257741874\n"
     ]
    },
    {
     "data": {
      "text/plain": [
       "0.49625728370029376"
      ]
     },
     "execution_count": 78,
     "metadata": {},
     "output_type": "execute_result"
    }
   ],
   "source": [
    "wt_entropy([91.28,186],[1,2])"
   ]
  },
  {
   "cell_type": "code",
   "execution_count": 34,
   "id": "1627295c-2923-44fa-9015-3134f01cdd5c",
   "metadata": {},
   "outputs": [],
   "source": [
    "from scipy.stats import entropy"
   ]
  },
  {
   "cell_type": "code",
   "execution_count": 36,
   "id": "0c157641-f109-4b45-b5bf-f6284daef15c",
   "metadata": {},
   "outputs": [
    {
     "data": {
      "text/plain": [
       "0.24078291969432516"
      ]
     },
     "execution_count": 36,
     "metadata": {},
     "output_type": "execute_result"
    }
   ],
   "source": [
    "entropy([26, 0.33], qk=[0.33, 0.67])"
   ]
  },
  {
   "cell_type": "code",
   "execution_count": null,
   "id": "a2c8b7ee-5273-4484-891f-62025177aa23",
   "metadata": {},
   "outputs": [],
   "source": []
  }
 ],
 "metadata": {
  "kernelspec": {
   "display_name": "Python 3",
   "language": "python",
   "name": "python3"
  },
  "language_info": {
   "codemirror_mode": {
    "name": "ipython",
    "version": 3
   },
   "file_extension": ".py",
   "mimetype": "text/x-python",
   "name": "python",
   "nbconvert_exporter": "python",
   "pygments_lexer": "ipython3",
   "version": "3.8.8"
  }
 },
 "nbformat": 4,
 "nbformat_minor": 5
}
