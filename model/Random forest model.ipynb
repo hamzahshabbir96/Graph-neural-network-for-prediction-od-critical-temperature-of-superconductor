{
 "cells": [
  {
   "cell_type": "code",
   "execution_count": 1,
   "id": "0f823a0c-fa81-478b-9879-d4273229ec09",
   "metadata": {},
   "outputs": [],
   "source": [
    "import pandas as pd\n",
    "import numpy as np\n",
    "import seaborn as sns\n",
    "import matplotlib.pyplot as plt"
   ]
  },
  {
   "cell_type": "code",
   "execution_count": 2,
   "id": "4bbe7004-bcf9-41ce-a43e-980ac315ac12",
   "metadata": {},
   "outputs": [],
   "source": [
    "file=pd.read_csv('train2.csv')"
   ]
  },
  {
   "cell_type": "code",
   "execution_count": 12,
   "id": "f76b79c9-1da4-4d5e-8e80-3d36d34f815e",
   "metadata": {},
   "outputs": [],
   "source": [
    "# decision tree for feature importance on a regression problem\n",
    "y=high_temperature['critical_temp']\n",
    "index_1=high_temperature.columns.tolist()[0:-1]\n",
    "X=high_temperature[index_1]\n",
    "from sklearn.datasets import make_regression\n",
    "from sklearn.tree import DecisionTreeRegressor\n",
    "from matplotlib import pyplot\n",
    "# define dataset\n",
    "#X, y = make_regression(n_samples=1000, n_features=10, n_informative=5, random_state=1)\n",
    "# define the model\n",
    "model = DecisionTreeRegressor()\n",
    "# fit the model\n",
    "model.fit(X, y)\n",
    "# get importance\n",
    "importance = model.feature_importances_\n"
   ]
  },
  {
   "cell_type": "markdown",
   "id": "c4dc0d84-d3ab-4dd0-a439-1ea2d8c860e3",
   "metadata": {},
   "source": [
    "# Prediction"
   ]
  },
  {
   "cell_type": "code",
   "execution_count": 4,
   "id": "f5b440de-b905-404a-b212-21935ac842bb",
   "metadata": {},
   "outputs": [],
   "source": [
    "import pandas as pd\n",
    "from sklearn.ensemble import RandomForestRegressor\n",
    "from sklearn.model_selection import train_test_split\n",
    "from sklearn.metrics import mean_squared_error,mean_absolute_percentage_error"
   ]
  },
  {
   "cell_type": "code",
   "execution_count": 5,
   "id": "16e002c1-c63e-44e3-b168-ac18b82bf28f",
   "metadata": {},
   "outputs": [],
   "source": [
    "file = pd.read_csv('train2.csv')\n",
    "y=file['critical_temp']\n",
    "x= file.drop(['critical_temp'],axis=1)\n",
    "X_train, X_test, y_train, y_test = train_test_split(x, y, test_size=0.05, random_state=42)"
   ]
  },
  {
   "cell_type": "code",
   "execution_count": 8,
   "id": "a7b4031a-ba2e-440c-ae98-041ad87bbb89",
   "metadata": {},
   "outputs": [],
   "source": [
    "regressor = RandomForestRegressor(n_estimators = 100, random_state = 0)"
   ]
  },
  {
   "cell_type": "code",
   "execution_count": 9,
   "id": "67f0f502-6024-4a71-af69-847633d0c78c",
   "metadata": {},
   "outputs": [
    {
     "data": {
      "text/plain": [
       "RandomForestRegressor(random_state=0)"
      ]
     },
     "execution_count": 9,
     "metadata": {},
     "output_type": "execute_result"
    }
   ],
   "source": [
    "regressor.fit(X_train, y_train)  \n"
   ]
  },
  {
   "cell_type": "code",
   "execution_count": 10,
   "id": "d77bec08-1670-4a8b-9296-5949ed74e8f6",
   "metadata": {},
   "outputs": [],
   "source": [
    "Y_pred = regressor.predict(X_test) "
   ]
  },
  {
   "cell_type": "code",
   "execution_count": 11,
   "id": "38dcf2c5-db96-4cf9-9e0a-9af0b3385144",
   "metadata": {},
   "outputs": [],
   "source": [
    "error=mean_absolute_percentage_error(y_test, Y_pred)"
   ]
  },
  {
   "cell_type": "code",
   "execution_count": 12,
   "id": "d9f074fc-5ad0-48c9-a1c4-ef78e0dfbb74",
   "metadata": {},
   "outputs": [
    {
     "data": {
      "text/plain": [
       "0.4483710444820154"
      ]
     },
     "execution_count": 12,
     "metadata": {},
     "output_type": "execute_result"
    }
   ],
   "source": [
    "error"
   ]
  },
  {
   "cell_type": "code",
   "execution_count": 16,
   "id": "6c810d0a-1e3f-48fe-a6ba-d90b42a8fbc9",
   "metadata": {},
   "outputs": [],
   "source": [
    "from sklearn.metrics import r2_score\n",
    "\n",
    "coefficient_of_dermination = r2_score(y_test, Y_pred)"
   ]
  },
  {
   "cell_type": "code",
   "execution_count": 17,
   "id": "62a35d93-40a4-4215-b701-2f75f2433da6",
   "metadata": {},
   "outputs": [
    {
     "data": {
      "text/plain": [
       "0.9358655269264726"
      ]
     },
     "execution_count": 17,
     "metadata": {},
     "output_type": "execute_result"
    }
   ],
   "source": [
    "coefficient_of_dermination"
   ]
  },
  {
   "cell_type": "code",
   "execution_count": 18,
   "id": "dfcdfd05-abef-4ac3-8e8b-d1a796ae0125",
   "metadata": {},
   "outputs": [],
   "source": [
    "from sklearn.metrics import mean_squared_error\n",
    "import math\n",
    "MSE = mean_squared_error(y_test, Y_pred)\n",
    " \n",
    "RMSE = math.sqrt(MSE)"
   ]
  },
  {
   "cell_type": "code",
   "execution_count": 19,
   "id": "95935f7e-9bd0-4cf6-b8d1-43a7c07fed46",
   "metadata": {},
   "outputs": [
    {
     "data": {
      "text/plain": [
       "8.34846897242605"
      ]
     },
     "execution_count": 19,
     "metadata": {},
     "output_type": "execute_result"
    }
   ],
   "source": [
    "RMSE"
   ]
  },
  {
   "cell_type": "code",
   "execution_count": 13,
   "id": "4781d7ba-10f9-4d5f-b6f4-95c22b9a3cfd",
   "metadata": {},
   "outputs": [],
   "source": [
    "dict = {'Predicted Critical Temperature':Y_pred , 'Real Crtitical Temperature': y_test} \n",
    "    \n",
    "df = pd.DataFrame(dict)"
   ]
  },
  {
   "cell_type": "code",
   "execution_count": 15,
   "id": "a40e1123-4282-4633-a359-af0c632232df",
   "metadata": {},
   "outputs": [],
   "source": [
    "df.to_excel('rf_result.xlsx')"
   ]
  },
  {
   "cell_type": "code",
   "execution_count": null,
   "id": "b65d72d2-0e0b-4b5c-b422-75a04252d061",
   "metadata": {},
   "outputs": [],
   "source": [
    "## below 10K"
   ]
  },
  {
   "cell_type": "code",
   "execution_count": 20,
   "id": "ea5cf3dd-71be-4510-beac-dd54be1b9268",
   "metadata": {},
   "outputs": [],
   "source": [
    "file = pd.read_csv('train2.csv')\n",
    "file=file[file['critical_temp'] <= 10]\n",
    "y=file['critical_temp']\n",
    "x= file.drop(['critical_temp'],axis=1)\n",
    "X_train, X_test, y_train, y_test = train_test_split(x, y, test_size=0.05, random_state=42)"
   ]
  },
  {
   "cell_type": "code",
   "execution_count": 26,
   "id": "53075a05-0295-4005-9adb-9830fb5e8521",
   "metadata": {},
   "outputs": [],
   "source": [
    "regressor = RandomForestRegressor(n_estimators = 200, random_state = 0)"
   ]
  },
  {
   "cell_type": "code",
   "execution_count": 27,
   "id": "2ea0c341-fe73-48e6-8148-33a581e951d9",
   "metadata": {},
   "outputs": [
    {
     "data": {
      "text/plain": [
       "RandomForestRegressor(n_estimators=200, random_state=0)"
      ]
     },
     "execution_count": 27,
     "metadata": {},
     "output_type": "execute_result"
    }
   ],
   "source": [
    "regressor.fit(X_train, y_train)  \n"
   ]
  },
  {
   "cell_type": "code",
   "execution_count": 28,
   "id": "39505e13-cd9a-4149-ae67-10c3f0cc93ab",
   "metadata": {},
   "outputs": [],
   "source": [
    "Y_pred = regressor.predict(X_test) "
   ]
  },
  {
   "cell_type": "code",
   "execution_count": 29,
   "id": "1940265c-7e3e-4020-b5da-0f73e5d59c3a",
   "metadata": {},
   "outputs": [],
   "source": [
    "error=mean_absolute_percentage_error(y_test, Y_pred)"
   ]
  },
  {
   "cell_type": "code",
   "execution_count": 30,
   "id": "fe17b543-8a48-4d8e-a204-b0d1294af91e",
   "metadata": {},
   "outputs": [
    {
     "data": {
      "text/plain": [
       "0.9204791528149385"
      ]
     },
     "execution_count": 30,
     "metadata": {},
     "output_type": "execute_result"
    }
   ],
   "source": [
    "error"
   ]
  },
  {
   "cell_type": "code",
   "execution_count": 31,
   "id": "30637000-c998-40a5-8964-5585a41f53fd",
   "metadata": {},
   "outputs": [],
   "source": [
    "from sklearn.metrics import r2_score\n",
    "\n",
    "coefficient_of_dermination = r2_score(y_test, Y_pred)"
   ]
  },
  {
   "cell_type": "code",
   "execution_count": 32,
   "id": "1d65dfcb-51ad-4d8a-b4e8-6448db20684e",
   "metadata": {},
   "outputs": [],
   "source": [
    "from sklearn.metrics import mean_squared_error\n",
    "import math\n",
    "MSE = mean_squared_error(y_test, Y_pred)\n",
    " \n",
    "RMSE = math.sqrt(MSE)"
   ]
  },
  {
   "cell_type": "code",
   "execution_count": 33,
   "id": "60826e32-6e6c-465f-b6b2-27d2abc5b6c0",
   "metadata": {},
   "outputs": [
    {
     "data": {
      "text/plain": [
       "1.8900864293467432"
      ]
     },
     "execution_count": 33,
     "metadata": {},
     "output_type": "execute_result"
    }
   ],
   "source": [
    "RMSE"
   ]
  },
  {
   "cell_type": "code",
   "execution_count": 34,
   "id": "223652df-4be1-4216-8feb-3f2a40f4b257",
   "metadata": {},
   "outputs": [],
   "source": [
    "dict = {'Predicted Critical Temperature':Y_pred , 'Real Crtitical Temperature': y_test} \n",
    "    \n",
    "df = pd.DataFrame(dict)"
   ]
  },
  {
   "cell_type": "code",
   "execution_count": 35,
   "id": "07928685-4b90-4d40-947c-fbc69e469089",
   "metadata": {},
   "outputs": [],
   "source": [
    "df.to_excel('rf_result_typeI.xlsx')"
   ]
  }
 ],
 "metadata": {
  "kernelspec": {
   "display_name": "Python 3",
   "language": "python",
   "name": "python3"
  },
  "language_info": {
   "codemirror_mode": {
    "name": "ipython",
    "version": 3
   },
   "file_extension": ".py",
   "mimetype": "text/x-python",
   "name": "python",
   "nbconvert_exporter": "python",
   "pygments_lexer": "ipython3",
   "version": "3.8.8"
  }
 },
 "nbformat": 4,
 "nbformat_minor": 5
}
