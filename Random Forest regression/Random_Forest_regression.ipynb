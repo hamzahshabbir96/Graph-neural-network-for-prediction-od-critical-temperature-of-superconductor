{
 "cells": [
  {
   "cell_type": "code",
   "execution_count": 23,
   "id": "44c2ee2e-a77a-4339-9874-8e022466b478",
   "metadata": {},
   "outputs": [],
   "source": [
    "import pandas as pd\n",
    "from sklearn.ensemble import RandomForestRegressor\n",
    "from sklearn.model_selection import train_test_split\n",
    "from sklearn.metrics import mean_squared_error,mean_absolute_percentage_error"
   ]
  },
  {
   "cell_type": "code",
   "execution_count": 3,
   "id": "709bc68b-3aa6-4c72-83c0-dfbb7639fb02",
   "metadata": {},
   "outputs": [],
   "source": [
    "file = pd.read_csv('train.csv')"
   ]
  },
  {
   "cell_type": "code",
   "execution_count": 9,
   "id": "e9882eb3-56df-4e18-b6d9-936f58280329",
   "metadata": {},
   "outputs": [],
   "source": [
    "y=file['critical_temp']\n",
    "x= file.drop(['critical_temp'],axis=1)"
   ]
  },
  {
   "cell_type": "code",
   "execution_count": 13,
   "id": "c098c20e-2054-4db3-9330-4b885c9f1736",
   "metadata": {},
   "outputs": [],
   "source": [
    "X_train, X_test, y_train, y_test = train_test_split(x, y, test_size=0.05, random_state=42)"
   ]
  },
  {
   "cell_type": "code",
   "execution_count": 15,
   "id": "c16b1c1b-308c-45bd-aead-ab4d3d1d8b19",
   "metadata": {},
   "outputs": [],
   "source": [
    " # create regressor object\n",
    "regressor = RandomForestRegressor(n_estimators = 1000, random_state = 0)"
   ]
  },
  {
   "cell_type": "code",
   "execution_count": 16,
   "id": "a440bcf2-8ae6-400b-ba56-a0628161f45f",
   "metadata": {},
   "outputs": [
    {
     "data": {
      "text/plain": [
       "RandomForestRegressor(n_estimators=1000, random_state=0)"
      ]
     },
     "execution_count": 16,
     "metadata": {},
     "output_type": "execute_result"
    }
   ],
   "source": [
    "regressor.fit(X_train, y_train)  \n"
   ]
  },
  {
   "cell_type": "code",
   "execution_count": 17,
   "id": "b98791f8-dcbe-445b-a045-0b7e97e2a7d5",
   "metadata": {},
   "outputs": [],
   "source": [
    "Y_pred = regressor.predict(X_test) "
   ]
  },
  {
   "cell_type": "code",
   "execution_count": 24,
   "id": "292fb4a4-228f-4600-9860-b347a4cc4232",
   "metadata": {},
   "outputs": [],
   "source": [
    "error=mean_absolute_percentage_error(y_test, Y_pred)"
   ]
  },
  {
   "cell_type": "code",
   "execution_count": 25,
   "id": "a88a944c-73de-4828-a5bf-baa140eec373",
   "metadata": {},
   "outputs": [
    {
     "data": {
      "text/plain": [
       "1.492219609990375"
      ]
     },
     "execution_count": 25,
     "metadata": {},
     "output_type": "execute_result"
    }
   ],
   "source": [
    "error"
   ]
  },
  {
   "cell_type": "code",
   "execution_count": null,
   "id": "18c3de13-9d18-49a9-90a7-49fc898ce8a6",
   "metadata": {},
   "outputs": [],
   "source": []
  }
 ],
 "metadata": {
  "kernelspec": {
   "display_name": "Python 3",
   "language": "python",
   "name": "python3"
  },
  "language_info": {
   "codemirror_mode": {
    "name": "ipython",
    "version": 3
   },
   "file_extension": ".py",
   "mimetype": "text/x-python",
   "name": "python",
   "nbconvert_exporter": "python",
   "pygments_lexer": "ipython3",
   "version": "3.8.8"
  }
 },
 "nbformat": 4,
 "nbformat_minor": 5
}
